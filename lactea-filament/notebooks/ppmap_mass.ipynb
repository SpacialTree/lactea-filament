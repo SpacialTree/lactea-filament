{
 "cells": [
  {
   "cell_type": "code",
   "execution_count": 1,
   "metadata": {},
   "outputs": [],
   "source": [
    "from astropy.table import Table\n",
    "import numpy as np\n",
    "import matplotlib.pyplot as plt\n",
    "import astropy.units as u\n",
    "import astropy.constants as const\n",
    "from astropy import wcs\n",
    "from scipy.spatial import KDTree\n",
    "from astropy.io import fits\n",
    "from astropy.coordinates import SkyCoord\n",
    "import regions\n",
    "from regions import Regions\n",
    "from regions import Region\n",
    "from spectral_cube import SpectralCube\n",
    "from astroquery.jplspec import JPLSpec\n",
    "from astroquery.splatalogue import Splatalogue\n",
    "from dust_extinction.averages import RL85_MWGC, RRP89_MWGC, B92_MWAvg, I05_MWAvg, CT06_MWLoc, CT06_MWGC, GCC09_MWAvg, F11_MWGC, G21_MWAvg, D22_MWAvg\n",
    "from importlib import reload\n",
    "from astropy.visualization import simple_norm"
   ]
  },
  {
   "cell_type": "code",
   "execution_count": 2,
   "metadata": {},
   "outputs": [],
   "source": [
    "# Setting up region cutout to be used. Make sure it overlaps with the PPMAP file you are using. \n",
    "# I used a rectangular region here, but any region shape can be used.\n",
    "pos = SkyCoord('17:46:20.6290029866', '-28:37:49.5114204513', unit=(u.hour, u.deg))\n",
    "l = 113.8*u.arcsec\n",
    "w = 3.3*u.arcmin\n",
    "reg = regions.RectangleSkyRegion(pos, width=l, height=w)"
   ]
  },
  {
   "cell_type": "markdown",
   "metadata": {},
   "source": [
    "## PPMAP"
   ]
  },
  {
   "cell_type": "code",
   "execution_count": 9,
   "metadata": {},
   "outputs": [],
   "source": [
    "ppmap = '/orange/adamginsburg/galactic_plane_surveys/higal/PPMAP_Results/l000_results/l000_cdens.fits'\n",
    "ppmap_err = '/orange/adamginsburg/galactic_plane_surveys/higal/PPMAP_Results/l000_results/l000_sigdiffcdens.fits'"
   ]
  },
  {
   "cell_type": "code",
   "execution_count": 10,
   "metadata": {},
   "outputs": [],
   "source": [
    "# Constants\n",
    "## distance to cloud\n",
    "distance = 5*u.kpc\n",
    "## mean mass per particle of H2\n",
    "mpp = 2.8*u.Da"
   ]
  },
  {
   "cell_type": "code",
   "execution_count": 11,
   "metadata": {},
   "outputs": [
    {
     "data": {
      "text/latex": [
       "$\\mathrm{1 \\times 10^{20}\\,\\frac{1}{cm^{2}}}$"
      ],
      "text/plain": [
       "Unit(\"1e+20 / cm2\")"
      ]
     },
     "execution_count": 11,
     "metadata": {},
     "output_type": "execute_result"
    }
   ],
   "source": [
    "r0 = reg#[0]\n",
    "hdul = fits.open(ppmap)\n",
    "ww = wcs.WCS(hdul[0].header)\n",
    "preg = r0.to_pixel(ww)\n",
    "mask = preg.to_mask()\n",
    "cutout = mask.cutout(hdul[0].data)\n",
    "#pixelarea = 1*u.pixel\n",
    "cden = (mask.multiply(hdul[0].data) * (10**20) * u.cm**(-2))\n",
    "        #* u.Unit(hdul[0].header['BUNIT']))\n",
    "u.Unit(hdul[0].header['BUNIT'])"
   ]
  },
  {
   "cell_type": "code",
   "execution_count": 12,
   "metadata": {},
   "outputs": [
    {
     "data": {
      "text/latex": [
       "$2.4469175 \\times 10^{22} \\; \\mathrm{\\frac{1}{cm^{2}}}$"
      ],
      "text/plain": [
       "<Quantity 2.44691751e+22 1 / cm2>"
      ]
     },
     "execution_count": 12,
     "metadata": {},
     "output_type": "execute_result"
    }
   ],
   "source": [
    "coldens_ppmap = np.nanmean(cden)\n",
    "coldens_ppmap"
   ]
  },
  {
   "cell_type": "code",
   "execution_count": 13,
   "metadata": {},
   "outputs": [
    {
     "data": {
      "text/latex": [
       "$15287.311 \\; \\mathrm{M_{\\odot}}$"
      ],
      "text/plain": [
       "<Quantity 15287.31118604 solMass>"
      ]
     },
     "execution_count": 13,
     "metadata": {},
     "output_type": "execute_result"
    }
   ],
   "source": [
    "pix_area_2 = ww.celestial.proj_plane_pixel_area()\n",
    "pix_area_cm_2 = (pix_area_2 * (distance)**2).to(u.parsec**2, equivalencies=u.dimensionless_angles()).to(u.cm**2)\n",
    "mass_ppmap = (pix_area_cm_2 * cden * mpp).to(u.M_sun).sum()\n",
    "mass_ppmap"
   ]
  },
  {
   "cell_type": "code",
   "execution_count": 14,
   "metadata": {},
   "outputs": [
    {
     "data": {
      "text/latex": [
       "$4.1404419 \\times 10^{20} \\; \\mathrm{\\frac{1}{cm^{2}}}$"
      ],
      "text/plain": [
       "<Quantity 4.14044193e+20 1 / cm2>"
      ]
     },
     "execution_count": 14,
     "metadata": {},
     "output_type": "execute_result"
    }
   ],
   "source": [
    "# using the PPMAP column density error map\n",
    "coldens_ppmap_err = mask.multiply(fits.open(ppmap_err)[0].data[5]).mean()* (10**20) * u.cm**(-2)#*u.Unit(hdul[0].header['BUNIT'])\n",
    "coldens_ppmap_err "
   ]
  },
  {
   "cell_type": "code",
   "execution_count": 15,
   "metadata": {},
   "outputs": [
    {
     "data": {
      "text/latex": [
       "$258.67739 \\; \\mathrm{M_{\\odot}}$"
      ],
      "text/plain": [
       "<Quantity 258.67739222 solMass>"
      ]
     },
     "execution_count": 15,
     "metadata": {},
     "output_type": "execute_result"
    }
   ],
   "source": [
    "mass_ppmap_err = mass_ppmap * coldens_ppmap_err / coldens_ppmap\n",
    "mass_ppmap_err"
   ]
  },
  {
   "cell_type": "code",
   "execution_count": null,
   "metadata": {},
   "outputs": [],
   "source": []
  }
 ],
 "metadata": {
  "kernelspec": {
   "display_name": "python310",
   "language": "python",
   "name": "python3"
  },
  "language_info": {
   "codemirror_mode": {
    "name": "ipython",
    "version": 3
   },
   "file_extension": ".py",
   "mimetype": "text/x-python",
   "name": "python",
   "nbconvert_exporter": "python",
   "pygments_lexer": "ipython3",
   "version": "3.10.8"
  }
 },
 "nbformat": 4,
 "nbformat_minor": 2
}
