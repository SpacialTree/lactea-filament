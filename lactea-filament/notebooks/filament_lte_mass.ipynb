{
 "cells": [
  {
   "cell_type": "code",
   "execution_count": 91,
   "metadata": {},
   "outputs": [],
   "source": [
    "from spectral_cube import SpectralCube\n",
    "import numpy as np\n",
    "from astropy.visualization import quantity_support\n",
    "from astropy import units as u\n",
    "from astropy import constants as const\n",
    "from astropy import wcs\n",
    "from astropy.coordinates import SkyCoord\n",
    "from astropy.visualization import simple_norm\n",
    "import matplotlib.pyplot as plt\n",
    "import regions\n",
    "from astropy.io import fits\n",
    "from astroquery.jplspec import JPLSpec\n",
    "from astroquery.splatalogue import Splatalogue"
   ]
  },
  {
   "cell_type": "code",
   "execution_count": 84,
   "metadata": {},
   "outputs": [
    {
     "name": "stdout",
     "output_type": "stream",
     "text": [
      "/blue/adamginsburg/savannahgramze/cloudc/lactea-filament/lactea-filament\n"
     ]
    }
   ],
   "source": [
    "cd .."
   ]
  },
  {
   "cell_type": "code",
   "execution_count": 85,
   "metadata": {},
   "outputs": [],
   "source": [
    "import cutout_manager as cm\n",
    "import moment_maker as mm"
   ]
  },
  {
   "cell_type": "code",
   "execution_count": 86,
   "metadata": {},
   "outputs": [
    {
     "name": "stdout",
     "output_type": "stream",
     "text": [
      "/blue/adamginsburg/savannahgramze/cloudc/lactea-filament/lactea-filament/notebooks\n"
     ]
    }
   ],
   "source": [
    "cd notebooks/"
   ]
  },
  {
   "cell_type": "markdown",
   "metadata": {},
   "source": [
    "# Column Density Functions"
   ]
  },
  {
   "cell_type": "code",
   "execution_count": 3,
   "metadata": {},
   "outputs": [],
   "source": [
    "# Citing https://ui.adsabs.harvard.edu/abs/2015PASP..127..266M/abstract \n",
    "# for how to use spectral line data to measure the column density of a given molecule"
   ]
  },
  {
   "cell_type": "markdown",
   "metadata": {},
   "source": [
    "$\n",
    "N^{thin}_{tot} = \\left(\\frac{3h}{8 \\pi^3 S \\mu^2 R_i}\\right)\n",
    "%\\left( \\frac{2J_u+1}{J_u}\\right)\n",
    "\\left(\\frac{Q_{rot}}{g_u}\\right) %\\\\\n",
    "%\\times\n",
    "\\frac{\\exp\\left(\\frac{E_u}{k_B T_{ex}}\\right)}\n",
    "{\\exp\\left(\\frac{h \\nu}{k_B T_{ex}}\\right)-1} \n",
    "\\times\n",
    "%\\int (1-exp(-\\tau)) d\\nu.\n",
    "\\int \\frac{T_R d\\nu}{f \\left(J_\\nu(T_{ex}) - J_\\nu(T_{bg})\\right)}\n",
    "$\n",
    "\n",
    "$N^{thin}_{tot}$ = column density of optically thin gas\n",
    "\n",
    "$h$ = Planck constant\n",
    "\n",
    "$Q_{rot}$ = rotational partition function\n",
    "\n",
    "$g_u$ = degeneracy \n",
    "\n",
    "$E_u$ = upper energy level\n",
    "\n",
    "$k_B$ = Boltzmann constant\n",
    "\n",
    "$\\nu$ = frequency\n",
    "\n",
    "$R_i$ = 1 for $\\Delta J=1$ transitions\n",
    "\n",
    "$f$ = filling factor, assumed 1\n",
    "\n",
    "$T_{ex}$ = excitation temperatrue\n",
    "\n",
    "$\\int T_R d\\nu$ = integrated intensity\n",
    "\n",
    "$T_{bg}$ = cosmic microwave background temperature \n",
    "\n",
    "$J_\\nu(T)$ = planck function\n",
    "\n",
    "$S = \\frac{J_u}{2J_u+1}$ linear molecules where $J_u$ is the upper energy level\n",
    "\n",
    "$\\mu$ = electric dipole moment"
   ]
  },
  {
   "cell_type": "code",
   "execution_count": 102,
   "metadata": {},
   "outputs": [],
   "source": [
    "# Planck Function for blackbody radiation\n",
    "def planck(T, nu):\n",
    "    return (const.h*nu/const.k_B)/(np.exp(const.h*nu/(const.k_B*T))-1)"
   ]
  },
  {
   "cell_type": "code",
   "execution_count": 103,
   "metadata": {},
   "outputs": [],
   "source": [
    "def get_S(J):\n",
    "    return J / (2*J + 1)\n",
    "\n",
    "def get_Qrot(Tex, B):\n",
    "    return (const.k_B * Tex) / (const.h * B) + 1/3 \n",
    "\n"
   ]
  },
  {
   "cell_type": "markdown",
   "metadata": {},
   "source": [
    "## 12CO 1-0"
   ]
  },
  {
   "cell_type": "code",
   "execution_count": 46,
   "metadata": {},
   "outputs": [
    {
     "name": "stdout",
     "output_type": "stream",
     "text": [
      "    FREQ     ERR    LGINT   DR   ELO    GUP  TAG   QNFMT QN' QN\"\n",
      "    MHz      MHz   nm2 MHz      1 / cm                          \n",
      "----------- ------ ------- --- -------- --- ------ ----- --- ---\n",
      "115271.2018 0.0005 -5.0105   2      0.0   3 -28001   101   1   0\n",
      "   230538.0 0.0005 -4.1197   2    3.845   5 -28001   101   2   1\n",
      "345795.9899 0.0005 -3.6118   2   11.535   7 -28001   101   3   2\n",
      "461040.7682 0.0005 -3.2657   2  23.0695   9 -28001   101   4   3\n",
      "576267.9305 0.0005 -3.0118   2  38.4481  11 -28001   101   5   4\n",
      "691473.0763 0.0005 -2.8193   2  57.6704  13 -28001   101   6   5\n",
      " 806651.806  0.005 -2.6716   2  80.7354  15 -28001   101   7   6\n",
      "   921799.7  0.005  -2.559   2 107.6424  17 -28001   101   8   7\n"
     ]
    }
   ],
   "source": [
    "response = JPLSpec.query_lines(min_frequency=100 * u.GHz,\n",
    "                               max_frequency=1000 * u.GHz,\n",
    "                               min_strength=-500,\n",
    "                               molecule=\"28001 CO\",\n",
    "                               get_query_payload=False)\n",
    "print(response)\n"
   ]
  },
  {
   "cell_type": "code",
   "execution_count": 60,
   "metadata": {},
   "outputs": [],
   "source": [
    "CO1to0 = Splatalogue.query_lines(1*u.mm, 3*u.mm, chemical_name=' CO ', energy_type='eu_k', only_NRAO_recommended=True)"
   ]
  },
  {
   "cell_type": "code",
   "execution_count": null,
   "metadata": {},
   "outputs": [],
   "source": [
    "# https://spec.jpl.nasa.gov/ftp/pub/catalog/doc/d028001.pdf\n",
    "\n",
    "# dipole moment mu \n",
    "mu = 0.11011\n",
    "\n",
    "# rotational constant B\n",
    "B = 57635.968*u.MHz\n",
    "\n",
    "# partition function Q_rot\n",
    "Q_rot = get_Qrot(20*u.K, B)\n",
    "\n",
    "# line strength S\n",
    "S = get_S(1)\n",
    "\n",
    "# frequency of the line\n",
    "freq = response['FREQ'].to(u.GHz)[0]\n",
    "\n",
    "# energy of the line\n",
    "Eu = CO1to0[CO1to0['species_id'] == 204]['upper_state_energy_K'][0] * u.K\n",
    "\n",
    "# degeneracy of the upper state\n",
    "gu = response['GUP'][0]\n"
   ]
  },
  {
   "cell_type": "markdown",
   "metadata": {},
   "source": [
    "$\n",
    "N^{thin}_{tot} = \\left(\\frac{3h}{8 \\pi^3 S \\mu^2 R_i}\\right)\n",
    "%\\left( \\frac{2J_u+1}{J_u}\\right)\n",
    "\\left(\\frac{Q_{rot}}{g_u}\\right) %\\\\\n",
    "%\\times\n",
    "\\frac{\\exp\\left(\\frac{E_u}{k_B T_{ex}}\\right)}\n",
    "{\\exp\\left(\\frac{h \\nu}{k_B T_{ex}}\\right)-1} \n",
    "\\times\n",
    "%\\int (1-exp(-\\tau)) d\\nu.\n",
    "\\int \\frac{T_R d\\nu}{f \\left(J_\\nu(T_{ex}) - J_\\nu(T_{bg})\\right)}\n",
    "$"
   ]
  },
  {
   "cell_type": "code",
   "execution_count": 118,
   "metadata": {},
   "outputs": [],
   "source": [
    "def query_JLP(mol):\n",
    "    response = JPLSpec.query_lines(min_frequency=100 * u.GHz,\n",
    "                                   max_frequency=1000 * u.GHz,\n",
    "                                   min_strength=-500,\n",
    "                                   molecule=mol,\n",
    "                                   get_query_payload=False)\n",
    "    return response\n",
    "\n",
    "def query_splat(mol):\n",
    "    return Splatalogue.query_lines(1*u.mm, 3*u.mm, chemical_name=mol, energy_type='eu_k', only_NRAO_recommended=True, energy_max=50)[0]\n",
    "    \n",
    "\n",
    "# get column density of CO 1-0\n",
    "def get_12CO_10_N(Tex, I, Ju=1):\n",
    "    mu = (1.1079*10**(-19) * u.esu * u.cm).to(u.cm*(u.cm**(3/2) * u.gram**(1/2) * u.second**(-1)))\n",
    "    B = 57635.968*u.MHz\n",
    "    Q_rot = get_Qrot(Tex, B)\n",
    "    S = get_S(Ju)\n",
    "    Ri = 1\n",
    "    f = 1\n",
    "    jpl = query_JLP(\"28001 CO\")\n",
    "    freq = jpl['FREQ'].to(u.GHz)[Ju-1]\n",
    "    splat = query_splat(' CO ')\n",
    "    Eu = splat['upper_state_energy_K'] * u.K\n",
    "    gu = jpl['GUP'][Ju-1]\n",
    "\n",
    "    N = (3 * const.h * Q_rot)/(8 * np.pi**3 * S * mu**2 * Ri * gu) \n",
    "    N *= np.exp(Eu/(Tex))/(np.exp(const.h*freq/(const.k_B*Tex))-1) \n",
    "    N *= (f * (planck(Tex, freq)-planck(2.73*u.K, freq)))**(-1) \n",
    "    N = N*I\n",
    "    return N # must multiply by I"
   ]
  },
  {
   "cell_type": "code",
   "execution_count": null,
   "metadata": {},
   "outputs": [],
   "source": []
  },
  {
   "cell_type": "markdown",
   "metadata": {},
   "source": [
    "## 13CO 1-0"
   ]
  },
  {
   "cell_type": "code",
   "execution_count": 30,
   "metadata": {},
   "outputs": [
    {
     "name": "stdout",
     "output_type": "stream",
     "text": [
      "    FREQ     ERR    LGINT   DR   ELO    GUP  TAG   QNFMT QN' QN\"\n",
      "    MHz      MHz   nm2 MHz      1 / cm                          \n",
      "----------- ------ ------- --- -------- --- ------ ----- --- ---\n",
      "110201.3541 0.0051 -5.0662   2      0.0   3 -29001   101   1   0\n",
      "220398.6765 0.0053 -4.1749   2   3.6759   5 -29001   101   2   1\n",
      "330587.9601 0.0049 -3.6662   2  11.0276   7 -29001   101   3   2\n",
      "440765.1668 0.0094 -3.3187   2  22.0549   9 -29001   101   4   3\n",
      "550926.3029 0.0304 -3.0632   2  36.7572  11 -29001   101   5   4\n",
      "661067.2801 0.0237 -2.8687   2  55.1341  13  29001   101   6   5\n",
      "771184.1376 0.0402 -2.7187   2   77.185  15  29001   101   7   6\n",
      "881272.8339 0.0627 -2.6034   2 102.9089  17  29001   101   8   7\n",
      "991329.3479 0.0918 -2.5165   2  132.305  19  29001   101   9   8\n"
     ]
    }
   ],
   "source": [
    "response = JPLSpec.query_lines(min_frequency=100 * u.GHz,\n",
    "                               max_frequency=1000 * u.GHz,\n",
    "                               min_strength=-500,\n",
    "                               molecule=\"29001 C-13-O\",\n",
    "                               get_query_payload=False)\n",
    "print(response)"
   ]
  },
  {
   "cell_type": "code",
   "execution_count": null,
   "metadata": {},
   "outputs": [],
   "source": [
    "# https://spec.jpl.nasa.gov/ftp/pub/catalog/doc/d029001.pdf\n",
    "\n",
    "# dipole moment mu\n",
    "mu = 0.11046 \n",
    "\n",
    "# rotational constant B\n",
    "B = 55101.011*u.MHz"
   ]
  },
  {
   "cell_type": "code",
   "execution_count": 122,
   "metadata": {},
   "outputs": [],
   "source": [
    "def get_13CO_10_N(Tex, I, Ju=1):\n",
    "    mu = (1.1046*10**(-19) * u.esu * u.cm).to(u.cm*(u.cm**(3/2) * u.gram**(1/2) * u.second**(-1)))\n",
    "    B = 55101.011 * u.MHz\n",
    "    Q_rot = get_Qrot(Tex, B)\n",
    "    S = get_S(Ju)\n",
    "    Ri = 1\n",
    "    f = 1\n",
    "    jpl = query_JLP(\"29001 C-13-O\")\n",
    "    freq = jpl['FREQ'].to(u.GHz)[Ju-1]\n",
    "    splat = query_splat(' 13CO ')\n",
    "    Eu = splat['upper_state_energy_K'] * u.K\n",
    "    gu = jpl['GUP'][Ju-1]\n",
    "\n",
    "    N = (3 * const.h * Q_rot)/(8 * np.pi**3 * S * mu**2 * Ri * gu) \n",
    "    N *= np.exp(Eu/(Tex))/(np.exp(const.h*freq/(const.k_B*Tex))-1) \n",
    "    N *= (f * (planck(Tex, freq)-planck(2.73*u.K, freq)))**(-1)\n",
    "    N = N*I\n",
    "\n",
    "    return N.to(u.cm**(-2))"
   ]
  },
  {
   "cell_type": "code",
   "execution_count": null,
   "metadata": {},
   "outputs": [],
   "source": []
  },
  {
   "cell_type": "markdown",
   "metadata": {},
   "source": [
    "## C18O 1-0"
   ]
  },
  {
   "cell_type": "code",
   "execution_count": 31,
   "metadata": {},
   "outputs": [
    {
     "name": "stdout",
     "output_type": "stream",
     "text": [
      "    FREQ     ERR    LGINT   DR   ELO    GUP  TAG   QNFMT QN' QN\"\n",
      "    MHz      MHz   nm2 MHz      1 / cm                          \n",
      "----------- ------ ------- --- -------- --- ------ ----- --- ---\n",
      "109782.1734 0.0063 -5.0708   2      0.0   3 -30001   101   1   0\n",
      "219560.3568 0.0081 -4.1794   2   3.6619   5 -30001   101   2   1\n",
      "329330.5453  0.004 -3.6706   2  10.9857   7 -30001   101   3   2\n",
      "439088.7631 0.0079 -3.3231   2   21.971   9 -30001   101   4   3\n",
      "548830.9775 0.0329 -3.0675   2  36.6174  11 -30001   101   5   4\n",
      "658553.2728 0.0234 -2.8728   2  54.9244  13  30001   101   6   5\n",
      " 768251.589 0.0403 -2.7226   2  76.8914  15  30001   101   7   6\n",
      "877921.9561 0.0633 -2.6071   2 102.5175  17  30001   101   8   7\n",
      "987560.3837 0.0931 -2.5199   2 131.8018  19  30001   101   9   8\n"
     ]
    }
   ],
   "source": [
    "response = JPLSpec.query_lines(min_frequency=100 * u.GHz,\n",
    "                               max_frequency=1000 * u.GHz,\n",
    "                               min_strength=-500,\n",
    "                               molecule=\"30001 CO-18\",\n",
    "                               get_query_payload=False)\n",
    "print(response)"
   ]
  },
  {
   "cell_type": "code",
   "execution_count": null,
   "metadata": {},
   "outputs": [],
   "source": [
    "# https://spec.jpl.nasa.gov/ftp/pub/catalog/doc/d030001.pdf \n",
    "\n",
    "# dipole moment mu\n",
    "mu = 0.11079 \n",
    "\n",
    "# rotational constant B\n",
    "B = 54891.420*u.MHz"
   ]
  },
  {
   "cell_type": "code",
   "execution_count": 123,
   "metadata": {},
   "outputs": [],
   "source": [
    "def get_C18O_10_N(Tex, I, Ju=1):\n",
    "    mu = (1.1079*10**(-19) * u.esu * u.cm).to(u.cm*(u.cm**(3/2) * u.gram**(1/2) * u.second**(-1)))\n",
    "    B = 54891.420 * u.MHz\n",
    "    Q_rot = get_Qrot(Tex, B)\n",
    "    S = get_S(Ju)\n",
    "    Ri = 1\n",
    "    f = 1\n",
    "    jpl = query_JLP(\"29001 CO-18\")\n",
    "    freq = jpl['FREQ'].to(u.GHz)[Ju-1]\n",
    "    splat = query_splat(' C18O ')\n",
    "    Eu = splat['upper_state_energy_K'] * u.K\n",
    "    gu = jpl['GUP'][Ju-1]\n",
    "\n",
    "    N = (3 * const.h * Q_rot)/(8 * np.pi**3 * S * mu**2 * Ri * gu) \n",
    "    N *= np.exp(Eu/(Tex))/(np.exp(const.h*freq/(const.k_B*Tex))-1) \n",
    "    N *= (f * (planck(Tex, freq)-planck(2.73*u.K, freq)))**(-1) \n",
    "    N = N*I\n",
    "\n",
    "    return N.to(u.cm**(-2))"
   ]
  },
  {
   "cell_type": "markdown",
   "metadata": {},
   "source": [
    "# Integrated Intensity Maps"
   ]
  },
  {
   "cell_type": "code",
   "execution_count": null,
   "metadata": {},
   "outputs": [],
   "source": []
  },
  {
   "cell_type": "code",
   "execution_count": 87,
   "metadata": {},
   "outputs": [],
   "source": [
    "fn_12CO = '/orange/adamginsburg/cmz/nobeyama/12CO-2.BEARS.FITS'\n",
    "fn_13CO = '/orange/adamginsburg/cmz/nobeyama/13CO-2.FOREST.FITS'\n",
    "fn_C18O = '/orange/adamginsburg/cmz/nobeyama/C18O-2.FOREST.FITS'"
   ]
  },
  {
   "cell_type": "code",
   "execution_count": 88,
   "metadata": {},
   "outputs": [
    {
     "name": "stderr",
     "output_type": "stream",
     "text": [
      "WARNING: VerifyWarning: Found a SIMPLE card but its format doesn't respect the FITS Standard [astropy.io.fits.hdu.hdulist]\n",
      "WARNING: File may have been truncated: actual file length (327718040) is smaller than the expected size (327718080) [astropy.io.fits.file]\n",
      "WARNING: VerifyWarning: Found a SIMPLE card but its format doesn't respect the FITS Standard [astropy.io.fits.hdu.hdulist]\n",
      "WARNING: File may have been truncated: actual file length (327718040) is smaller than the expected size (327718080) [astropy.io.fits.file]\n",
      "WARNING: VerifyWarning: Found a SIMPLE card but its format doesn't respect the FITS Standard [astropy.io.fits.hdu.hdulist]\n",
      "WARNING: File may have been truncated: actual file length (327718040) is smaller than the expected size (327718080) [astropy.io.fits.file]\n"
     ]
    }
   ],
   "source": [
    "cube_12CO = SpectralCube.read(fn_12CO, format='fits')\n",
    "cube_13CO = SpectralCube.read(fn_13CO, format='fits')\n",
    "cube_C18O = SpectralCube.read(fn_C18O, format='fits')"
   ]
  },
  {
   "cell_type": "code",
   "execution_count": 94,
   "metadata": {},
   "outputs": [],
   "source": [
    "pos = SkyCoord('17:46:20.6290029866', '-28:37:49.5114204513', unit=(u.hour, u.deg))\n",
    "l = 113.8*u.arcsec\n",
    "w = 3.3*u.arcmin\n",
    "reg = regions.RectangleSkyRegion(pos, width=l, height=w)\n",
    "\n",
    "subcube_12CO = cube_12CO.subcube_from_regions([reg])\n",
    "subcube_12CO = subcube_12CO.with_spectral_unit(u.km/u.s).spectral_slab(-57*u.km/u.s, -53*u.km/u.s)#(-56*u.km/u.s, -54*u.km/u.s)#\n",
    "\n",
    "subcube_13CO = cube_13CO.subcube_from_regions([reg])\n",
    "subcube_13CO = subcube_13CO.with_spectral_unit(u.km/u.s).spectral_slab(-57*u.km/u.s, -53*u.km/u.s)#(-56*u.km/u.s, -54*u.km/u.s)#\n",
    "\n",
    "subcube_C18O = cube_C18O.subcube_from_regions([reg])\n",
    "subcube_C18O = subcube_C18O.with_spectral_unit(u.km/u.s).spectral_slab(-57*u.km/u.s, -53*u.km/u.s)#(-56*u.km/u.s, -54*u.km/u.s)#\n",
    "\n",
    "subcube_12CO_mom0 = subcube_12CO.moment0()\n",
    "subcube_13CO_mom0 = subcube_13CO.moment0()\n",
    "subcube_C18O_mom0 = subcube_C18O.moment0()"
   ]
  },
  {
   "cell_type": "code",
   "execution_count": 93,
   "metadata": {},
   "outputs": [
    {
     "data": {
      "text/plain": [
       "<matplotlib.colorbar.Colorbar at 0x15364c307230>"
      ]
     },
     "execution_count": 93,
     "metadata": {},
     "output_type": "execute_result"
    },
    {
     "data": {
      "image/png": "[encoded data removed]",
      "text/plain": [
       "<Figure size 640x480 with 2 Axes>"
      ]
     },
     "metadata": {},
     "output_type": "display_data"
    }
   ],
   "source": [
    "ax = plt.subplot(projection=subcube_12CO_mom0.wcs)\n",
    "im = ax.imshow(subcube_12CO_mom0.value, origin='lower', cmap='inferno')\n",
    "plt.colorbar(im, ax=ax, label=subcube_12CO_mom0.unit)"
   ]
  },
  {
   "cell_type": "code",
   "execution_count": 95,
   "metadata": {},
   "outputs": [
    {
     "data": {
      "text/plain": [
       "<matplotlib.colorbar.Colorbar at 0x15364c237530>"
      ]
     },
     "execution_count": 95,
     "metadata": {},
     "output_type": "execute_result"
    },
    {
     "data": {
      "image/png": "[encoded data removed]",
      "text/plain": [
       "<Figure size 640x480 with 2 Axes>"
      ]
     },
     "metadata": {},
     "output_type": "display_data"
    }
   ],
   "source": [
    "ax = plt.subplot(projection=subcube_13CO_mom0.wcs)\n",
    "im = ax.imshow(subcube_13CO_mom0.value, origin='lower', cmap='inferno')\n",
    "plt.colorbar(im, ax=ax, label=subcube_13CO_mom0.unit)"
   ]
  },
  {
   "cell_type": "code",
   "execution_count": 96,
   "metadata": {},
   "outputs": [
    {
     "data": {
      "text/plain": [
       "<matplotlib.colorbar.Colorbar at 0x153645e6b6b0>"
      ]
     },
     "execution_count": 96,
     "metadata": {},
     "output_type": "execute_result"
    },
    {
     "data": {
      "image/png": "[encoded data removed]",
      "text/plain": [
       "<Figure size 640x480 with 2 Axes>"
      ]
     },
     "metadata": {},
     "output_type": "display_data"
    }
   ],
   "source": [
    "ax = plt.subplot(projection=subcube_C18O_mom0.wcs)\n",
    "im = ax.imshow(subcube_C18O_mom0.value, origin='lower', cmap='inferno')\n",
    "plt.colorbar(im, ax=ax, label=subcube_C18O_mom0.unit)"
   ]
  },
  {
   "cell_type": "code",
   "execution_count": 125,
   "metadata": {},
   "outputs": [],
   "source": [
    "column_density_12CO = get_12CO_10_N(20*u.K, subcube_12CO_mom0)\n",
    "column_density_13CO = get_13CO_10_N(20*u.K, subcube_13CO_mom0)\n",
    "column_density_C18O = get_C18O_10_N(20*u.K, subcube_C18O_mom0)"
   ]
  },
  {
   "cell_type": "code",
   "execution_count": 132,
   "metadata": {},
   "outputs": [],
   "source": [
    "co_abundance = 10**(-4)"
   ]
  },
  {
   "cell_type": "code",
   "execution_count": 135,
   "metadata": {},
   "outputs": [
    {
     "data": {
      "text/latex": [
       "$0.12738478 \\; \\mathrm{M_{\\odot}}$"
      ],
      "text/plain": [
       "<Quantity 0.12738478 solMass>"
      ]
     },
     "execution_count": 135,
     "metadata": {},
     "output_type": "execute_result"
    }
   ],
   "source": [
    "ww = wcs.WCS(subcube_12CO_mom0.header)\n",
    "N_12CO = np.nansum(column_density_12CO.value) * u.cm**(-2)\n",
    "pixel_physical_area = (ww.proj_plane_pixel_scales()[0] * 5 * u.kpc).to(u.cm, u.dimensionless_angles())**2\n",
    "M_12CO = N_12CO * pixel_physical_area * 2.8 * u.Da\n",
    "M_12CO.to(u.M_sun) / co_abundance"
   ]
  },
  {
   "cell_type": "code",
   "execution_count": null,
   "metadata": {},
   "outputs": [
    {
     "data": {
      "text/latex": [
       "$2323.2842 \\; \\mathrm{M_{\\odot}}$"
      ],
      "text/plain": [
       "<Quantity 2323.28420177 solMass>"
      ]
     },
     "execution_count": 139,
     "metadata": {},
     "output_type": "execute_result"
    }
   ],
   "source": [
    "ratio_12C_13C = 53 # from Wilson & Rood 1994\n",
    "ww = wcs.WCS(subcube_13CO_mom0.header)\n",
    "N_13CO = np.nansum(column_density_13CO.value) * u.cm**(-2)\n",
    "pixel_physical_area = (ww.proj_plane_pixel_scales()[0] * 5 * u.kpc).to(u.cm, u.dimensionless_angles())**2\n",
    "M_13CO = N_13CO * pixel_physical_area * 2.8 * u.Da\n",
    "M_13CO.to(u.M_sun) *ratio_12C_13C / co_abundance"
   ]
  },
  {
   "cell_type": "code",
   "execution_count": null,
   "metadata": {},
   "outputs": [
    {
     "data": {
      "text/latex": [
       "$3492.9194 \\; \\mathrm{M_{\\odot}}$"
      ],
      "text/plain": [
       "<Quantity 3492.91941135 solMass>"
      ]
     },
     "execution_count": 142,
     "metadata": {},
     "output_type": "execute_result"
    }
   ],
   "source": [
    "ratio_16O_18O = 327 # from Wilson & Rood 1994\n",
    "ww = wcs.WCS(subcube_C18O_mom0.header)\n",
    "N_C18O = np.nansum(column_density_C18O.value) * u.cm**(-2)\n",
    "pixel_physical_area = (ww.proj_plane_pixel_scales()[0] * 5 * u.kpc).to(u.cm, u.dimensionless_angles())**2\n",
    "M_C18O = N_C18O * pixel_physical_area * 2.8 * u.Da\n",
    "M_C18O.to(u.M_sun) * ratio_16O_18O / co_abundance"
   ]
  },
  {
   "cell_type": "code",
   "execution_count": null,
   "metadata": {},
   "outputs": [],
   "source": []
  }
 ],
 "metadata": {
  "kernelspec": {
   "display_name": "Python 3",
   "language": "python",
   "name": "python3"
  },
  "language_info": {
   "codemirror_mode": {
    "name": "ipython",
    "version": 3
   },
   "file_extension": ".py",
   "mimetype": "text/x-python",
   "name": "python",
   "nbconvert_exporter": "python",
   "pygments_lexer": "ipython3",
   "version": "3.12.4"
  }
 },
 "nbformat": 4,
 "nbformat_minor": 2
}
