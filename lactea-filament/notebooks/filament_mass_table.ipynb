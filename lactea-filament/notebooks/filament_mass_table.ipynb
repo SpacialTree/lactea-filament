{
 "cells": [
  {
   "cell_type": "code",
   "execution_count": 1,
   "metadata": {},
   "outputs": [],
   "source": [
    "from astropy.table import Table\n",
    "import numpy as np\n",
    "import matplotlib.pyplot as plt\n",
    "import astropy.units as u\n",
    "import astropy.constants as const\n",
    "from astropy import wcs\n",
    "from scipy.spatial import KDTree\n",
    "from astropy.io import fits\n",
    "from astropy.coordinates import SkyCoord\n",
    "import regions\n",
    "from regions import Regions\n",
    "from regions import Region\n",
    "from spectral_cube import SpectralCube\n",
    "from astroquery.jplspec import JPLSpec\n",
    "from astroquery.splatalogue import Splatalogue\n",
    "from dust_extinction.averages import RL85_MWGC, RRP89_MWGC, B92_MWAvg, I05_MWAvg, CT06_MWLoc, CT06_MWGC, GCC09_MWAvg, F11_MWGC, G21_MWAvg, D22_MWAvg\n",
    "from importlib import reload\n",
    "from astropy.visualization import simple_norm"
   ]
  },
  {
   "cell_type": "code",
   "execution_count": null,
   "metadata": {},
   "outputs": [
    {
     "name": "stdout",
     "output_type": "stream",
     "text": [
      "/blue/adamginsburg/savannahgramze/cloudc/lactea-filament/lactea-filament\n"
     ]
    }
   ],
   "source": [
    "cd .."
   ]
  },
  {
   "cell_type": "code",
   "execution_count": 3,
   "metadata": {},
   "outputs": [
    {
     "data": {
      "text/plain": [
       "<module 'co_ice' from '/blue/adamginsburg/savannahgramze/cloudc/lactea-filament/lactea-filament/co_ice.py'>"
      ]
     },
     "execution_count": 3,
     "metadata": {},
     "output_type": "execute_result"
    }
   ],
   "source": [
    "from jwst_plots import make_cat_use\n",
    "from jwst_plots import JWSTCatalog\n",
    "import cutout_manager as cm\n",
    "import extinction as ex\n",
    "import moment_maker as mm\n",
    "import co_ice as co_map\n",
    "reload(ex)\n",
    "reload(co_map)"
   ]
  },
  {
   "cell_type": "code",
   "execution_count": 4,
   "metadata": {},
   "outputs": [
    {
     "name": "stdout",
     "output_type": "stream",
     "text": [
      "/blue/adamginsburg/savannahgramze/cloudc/lactea-filament/lactea-filament/notebooks\n"
     ]
    }
   ],
   "source": [
    "cd notebooks"
   ]
  },
  {
   "cell_type": "code",
   "execution_count": 5,
   "metadata": {},
   "outputs": [],
   "source": [
    "pos = SkyCoord('17:46:20.6290029866', '-28:37:49.5114204513', unit=(u.hour, u.deg))\n",
    "l = 113.8*u.arcsec\n",
    "w = 3.3*u.arcmin\n",
    "reg = regions.RectangleSkyRegion(pos, width=l, height=w)"
   ]
  },
  {
   "cell_type": "markdown",
   "metadata": {},
   "source": [
    "# Mass over rectangle"
   ]
  },
  {
   "cell_type": "markdown",
   "metadata": {},
   "source": [
    "## CO"
   ]
  },
  {
   "cell_type": "code",
   "execution_count": 6,
   "metadata": {},
   "outputs": [],
   "source": [
    "fn_12CO = '/orange/adamginsburg/cmz/nobeyama/12CO-2.BEARS.FITS'\n",
    "fn_13CO = '/orange/adamginsburg/cmz/nobeyama/13CO-2.FOREST.FITS'\n",
    "fn_C18O = '/orange/adamginsburg/cmz/nobeyama/C18O-2.FOREST.FITS'"
   ]
  },
  {
   "cell_type": "code",
   "execution_count": 7,
   "metadata": {},
   "outputs": [
    {
     "name": "stderr",
     "output_type": "stream",
     "text": [
      "WARNING: VerifyWarning: Found a SIMPLE card but its format doesn't respect the FITS Standard [astropy.io.fits.hdu.hdulist]\n",
      "WARNING: File may have been truncated: actual file length (327718040) is smaller than the expected size (327718080) [astropy.io.fits.file]\n",
      "WARNING: VerifyWarning: Found a SIMPLE card but its format doesn't respect the FITS Standard [astropy.io.fits.hdu.hdulist]\n",
      "WARNING: File may have been truncated: actual file length (327718040) is smaller than the expected size (327718080) [astropy.io.fits.file]\n",
      "WARNING: VerifyWarning: Found a SIMPLE card but its format doesn't respect the FITS Standard [astropy.io.fits.hdu.hdulist]\n",
      "WARNING: File may have been truncated: actual file length (327718040) is smaller than the expected size (327718080) [astropy.io.fits.file]\n"
     ]
    }
   ],
   "source": [
    "cube_12CO = SpectralCube.read(fn_12CO, format='fits')\n",
    "cube_13CO = SpectralCube.read(fn_13CO, format='fits')\n",
    "cube_C18O = SpectralCube.read(fn_C18O, format='fits')"
   ]
  },
  {
   "cell_type": "markdown",
   "metadata": {},
   "source": [
    "## Strong et al 1988 X-Factor"
   ]
  },
  {
   "cell_type": "code",
   "execution_count": 8,
   "metadata": {},
   "outputs": [],
   "source": [
    "subcube_12CO = cube_12CO.subcube_from_regions([reg])\n",
    "subcube_12CO = subcube_12CO.with_spectral_unit(u.km/u.s).spectral_slab(-57*u.km/u.s, -53*u.km/u.s)#(-56*u.km/u.s, -54*u.km/u.s)#\n",
    "\n",
    "subcube_12CO_mom0 = subcube_12CO.moment0()"
   ]
  },
  {
   "cell_type": "code",
   "execution_count": 9,
   "metadata": {},
   "outputs": [
    {
     "data": {
      "text/plain": [
       "<matplotlib.colorbar.Colorbar at 0x14d29107f200>"
      ]
     },
     "execution_count": 9,
     "metadata": {},
     "output_type": "execute_result"
    },
    {
     "data": {
      "image/png": "[encoded data removed]",
      "text/plain": [
       "<Figure size 640x480 with 2 Axes>"
      ]
     },
     "metadata": {},
     "output_type": "display_data"
    }
   ],
   "source": [
    "ax = plt.subplot(projection=subcube_12CO_mom0.wcs)\n",
    "im = ax.imshow(subcube_12CO_mom0.value, origin='lower', cmap='inferno')\n",
    "plt.colorbar(im, ax=ax, label=subcube_12CO_mom0.unit)"
   ]
  },
  {
   "cell_type": "code",
   "execution_count": 10,
   "metadata": {},
   "outputs": [
    {
     "data": {
      "text/latex": [
       "$2368.6565 \\; \\mathrm{M_{\\odot}}$"
      ],
      "text/plain": [
       "<Quantity 2368.65646623 solMass>"
      ]
     },
     "execution_count": 10,
     "metadata": {},
     "output_type": "execute_result"
    }
   ],
   "source": [
    "ww = subcube_12CO_mom0.wcs\n",
    "subcube_N = np.nansum(subcube_12CO_mom0.value) * subcube_12CO_mom0.unit * 2.3 * 10**20 * u.cm**-2 * u.K**-1 * u.km**-1 * u.s\n",
    "pixel_area_physical = (ww.proj_plane_pixel_scales()[0] * 5 * u.kpc).to(u.cm, u.dimensionless_angles())**2\n",
    "mass_Xfactor = (subcube_N * pixel_area_physical * 2.8 * u.u).to(u.Msun)\n",
    "mass_Xfactor"
   ]
  },
  {
   "cell_type": "code",
   "execution_count": 11,
   "metadata": {},
   "outputs": [
    {
     "data": {
      "text/latex": [
       "$8.0293816 \\times 10^{21} \\; \\mathrm{\\frac{1}{cm^{2}}}$"
      ],
      "text/plain": [
       "<Projection 8.02938156e+21 1 / cm2>"
      ]
     },
     "execution_count": 11,
     "metadata": {},
     "output_type": "execute_result"
    }
   ],
   "source": [
    "coldens_Xfactor = np.nanmean(subcube_12CO_mom0)* 2.3 * 10**20 * u.cm**-2 * u.K**-1 * u.km**-1 * u.s\n",
    "coldens_Xfactor"
   ]
  },
  {
   "cell_type": "code",
   "execution_count": 12,
   "metadata": {},
   "outputs": [
    {
     "data": {
      "text/latex": [
       "$1.4575539 \\times 10^{21} \\; \\mathrm{\\frac{1}{cm^{2}}}$"
      ],
      "text/plain": [
       "<Projection 1.45755394e+21 1 / cm2>"
      ]
     },
     "execution_count": 12,
     "metadata": {},
     "output_type": "execute_result"
    }
   ],
   "source": [
    "coldens_Xfactor_err = np.sqrt((np.nanstd(subcube_12CO_mom0)/np.nanmean(subcube_12CO_mom0))**2 + (0.3/2.3)**2)*coldens_Xfactor\n",
    "coldens_Xfactor_err"
   ]
  },
  {
   "cell_type": "code",
   "execution_count": 13,
   "metadata": {},
   "outputs": [
    {
     "data": {
      "text/latex": [
       "$429.9764 \\; \\mathrm{M_{\\odot}}$"
      ],
      "text/plain": [
       "<Projection 429.97639769 solMass>"
      ]
     },
     "execution_count": 13,
     "metadata": {},
     "output_type": "execute_result"
    }
   ],
   "source": [
    "mass_Xfactor_err = np.sqrt((coldens_Xfactor_err/coldens_Xfactor)**2)*mass_Xfactor\n",
    "mass_Xfactor_err"
   ]
  },
  {
   "cell_type": "markdown",
   "metadata": {},
   "source": [
    "## Isotopologue Masses"
   ]
  },
  {
   "cell_type": "code",
   "execution_count": 14,
   "metadata": {},
   "outputs": [],
   "source": [
    "# Planck Function for blackbody radiation\n",
    "def planck(T, nu):\n",
    "    return (const.h*nu/const.k_B)/(np.exp(const.h*nu/(const.k_B*T))-1)\n",
    "\n",
    "def get_S(J):\n",
    "    return J / (2*J + 1)\n",
    "\n",
    "def get_Qrot(Tex, B):\n",
    "    return (const.k_B * Tex) / (const.h * B) + 1/3 \n",
    "\n",
    "def query_JLP(mol):\n",
    "    response = JPLSpec.query_lines(min_frequency=100 * u.GHz,\n",
    "                                   max_frequency=1000 * u.GHz,\n",
    "                                   min_strength=-500,\n",
    "                                   molecule=mol,\n",
    "                                   get_query_payload=False)\n",
    "    return response\n",
    "\n",
    "def query_splat(mol):\n",
    "    return Splatalogue.query_lines(1*u.mm, 3*u.mm, chemical_name=mol, energy_type='eu_k', only_NRAO_recommended=True, energy_max=50)[0]"
   ]
  },
  {
   "cell_type": "code",
   "execution_count": 15,
   "metadata": {},
   "outputs": [],
   "source": [
    "co_abundance = 10**(-4)"
   ]
  },
  {
   "cell_type": "markdown",
   "metadata": {},
   "source": [
    "### 13CO"
   ]
  },
  {
   "cell_type": "code",
   "execution_count": 16,
   "metadata": {},
   "outputs": [],
   "source": [
    "def get_13CO_10_N(Tex, I, Ju=1):\n",
    "    mu = (1.1046*10**(-19) * u.esu * u.cm).to(u.cm*(u.cm**(3/2) * u.gram**(1/2) * u.second**(-1)))\n",
    "    B = 55101.011 * u.MHz\n",
    "    Q_rot = get_Qrot(Tex, B)\n",
    "    S = get_S(Ju)\n",
    "    Ri = 1\n",
    "    f = 1\n",
    "    jpl = query_JLP(\"29001 C-13-O\")\n",
    "    freq = jpl['FREQ'].to(u.GHz)[Ju-1]\n",
    "    splat = query_splat(' 13CO ')\n",
    "    Eu = splat['upper_state_energy_K'] * u.K\n",
    "    gu = jpl['GUP'][Ju-1]\n",
    "\n",
    "    N = (3 * const.h * Q_rot)/(8 * np.pi**3 * S * mu**2 * Ri * gu) \n",
    "    N *= np.exp(Eu/(Tex))/(np.exp(const.h*freq/(const.k_B*Tex))-1) \n",
    "    N *= (f * (planck(Tex, freq)-planck(2.73*u.K, freq)))**(-1)\n",
    "    N = N*I\n",
    "\n",
    "    return N.to(u.cm**(-2))"
   ]
  },
  {
   "cell_type": "code",
   "execution_count": 17,
   "metadata": {},
   "outputs": [],
   "source": [
    "subcube_13CO = cube_13CO.subcube_from_regions([reg])\n",
    "subcube_13CO = subcube_13CO.with_spectral_unit(u.km/u.s).spectral_slab(-57*u.km/u.s, -53*u.km/u.s)#(-56*u.km/u.s, -54*u.km/u.s)#\n",
    "\n",
    "subcube_13CO_mom0 = subcube_13CO.moment0()"
   ]
  },
  {
   "cell_type": "code",
   "execution_count": 30,
   "metadata": {},
   "outputs": [],
   "source": [
    "column_density_13CO = get_13CO_10_N(20*u.K, subcube_13CO_mom0)"
   ]
  },
  {
   "cell_type": "code",
   "execution_count": 31,
   "metadata": {},
   "outputs": [
    {
     "data": {
      "text/latex": [
       "$2323.2842 \\; \\mathrm{M_{\\odot}}$"
      ],
      "text/plain": [
       "<Quantity 2323.28420177 solMass>"
      ]
     },
     "execution_count": 31,
     "metadata": {},
     "output_type": "execute_result"
    }
   ],
   "source": [
    "ratio_12C_13C = 53 # from Wilson & Rood 1994\n",
    "ww = wcs.WCS(subcube_13CO_mom0.header)\n",
    "N_13CO = np.nansum(column_density_13CO.value) * u.cm**(-2)\n",
    "pixel_physical_area = (ww.proj_plane_pixel_scales()[0] * 5 * u.kpc).to(u.cm, u.dimensionless_angles())**2\n",
    "M_13CO = N_13CO * pixel_physical_area * 2.8 * u.Da\n",
    "mass_13CO = M_13CO.to(u.M_sun) * ratio_12C_13C / co_abundance\n",
    "mass_13CO"
   ]
  },
  {
   "cell_type": "code",
   "execution_count": 20,
   "metadata": {},
   "outputs": [
    {
     "data": {
      "text/latex": [
       "$876.71102 \\; \\mathrm{M_{\\odot}}$"
      ],
      "text/plain": [
       "<Quantity 876.71101953 solMass>"
      ]
     },
     "execution_count": 20,
     "metadata": {},
     "output_type": "execute_result"
    }
   ],
   "source": [
    "ratio_12C_13C_GC = 20 # from Wilson & Rood 1994\n",
    "mass_13CO_GC = M_13CO.to(u.M_sun) * ratio_12C_13C_GC / co_abundance\n",
    "mass_13CO_GC"
   ]
  },
  {
   "cell_type": "code",
   "execution_count": 21,
   "metadata": {},
   "outputs": [
    {
     "data": {
      "text/latex": [
       "$7.8755769 \\times 10^{21} \\; \\mathrm{\\frac{1}{cm^{2}}}$"
      ],
      "text/plain": [
       "<Projection 7.87557686e+21 1 / cm2>"
      ]
     },
     "execution_count": 21,
     "metadata": {},
     "output_type": "execute_result"
    }
   ],
   "source": [
    "coldens_13CO = np.nanmean(column_density_13CO) * ratio_12C_13C / co_abundance\n",
    "coldens_13CO"
   ]
  },
  {
   "cell_type": "code",
   "execution_count": 22,
   "metadata": {},
   "outputs": [
    {
     "data": {
      "text/latex": [
       "$1.4504301 \\times 10^{21} \\; \\mathrm{\\frac{1}{cm^{2}}}$"
      ],
      "text/plain": [
       "<Projection 1.45043015e+21 1 / cm2>"
      ]
     },
     "execution_count": 22,
     "metadata": {},
     "output_type": "execute_result"
    }
   ],
   "source": [
    "coldens_13CO_err = coldens_13CO*(np.nanstd(subcube_13CO_mom0)/np.nanmean(subcube_13CO_mom0))\n",
    "coldens_13CO_err"
   ]
  },
  {
   "cell_type": "code",
   "execution_count": 23,
   "metadata": {},
   "outputs": [
    {
     "data": {
      "text/latex": [
       "$427.87487 \\; \\mathrm{M_{\\odot}}$"
      ],
      "text/plain": [
       "<Projection 427.87487265 solMass>"
      ]
     },
     "execution_count": 23,
     "metadata": {},
     "output_type": "execute_result"
    }
   ],
   "source": [
    "mass_13CO_err = mass_13CO * coldens_13CO_err / coldens_13CO\n",
    "mass_13CO_err"
   ]
  },
  {
   "cell_type": "markdown",
   "metadata": {},
   "source": [
    "### C18O"
   ]
  },
  {
   "cell_type": "code",
   "execution_count": 32,
   "metadata": {},
   "outputs": [],
   "source": [
    "def get_C18O_10_N(Tex, I, Ju=1):\n",
    "    mu = (1.1079*10**(-19) * u.esu * u.cm).to(u.cm*(u.cm**(3/2) * u.gram**(1/2) * u.second**(-1)))\n",
    "    B = 54891.420 * u.MHz\n",
    "    Q_rot = get_Qrot(Tex, B)\n",
    "    S = get_S(Ju)\n",
    "    Ri = 1\n",
    "    f = 1\n",
    "    jpl = query_JLP(\"29001 CO-18\")\n",
    "    freq = jpl['FREQ'].to(u.GHz)[Ju-1]\n",
    "    splat = query_splat(' C18O ')\n",
    "    Eu = splat['upper_state_energy_K'] * u.K\n",
    "    gu = jpl['GUP'][Ju-1]\n",
    "\n",
    "    N = (3 * const.h * Q_rot)/(8 * np.pi**3 * S * mu**2 * Ri * gu) \n",
    "    N *= np.exp(Eu/(Tex))/(np.exp(const.h*freq/(const.k_B*Tex))-1) \n",
    "    N *= (f * (planck(Tex, freq)-planck(2.73*u.K, freq)))**(-1) \n",
    "    N = N*I\n",
    "\n",
    "    return N.to(u.cm**(-2))"
   ]
  },
  {
   "cell_type": "code",
   "execution_count": 33,
   "metadata": {},
   "outputs": [],
   "source": [
    "subcube_C18O = cube_C18O.subcube_from_regions([reg])\n",
    "subcube_C18O = subcube_C18O.with_spectral_unit(u.km/u.s).spectral_slab(-57*u.km/u.s, -53*u.km/u.s)#(-56*u.km/u.s, -54*u.km/u.s)#\n",
    "\n",
    "subcube_C18O_mom0 = subcube_C18O.moment0()"
   ]
  },
  {
   "cell_type": "code",
   "execution_count": 38,
   "metadata": {},
   "outputs": [],
   "source": [
    "column_density_C18O = get_C18O_10_N(20*u.K, subcube_C18O_mom0)"
   ]
  },
  {
   "cell_type": "code",
   "execution_count": 39,
   "metadata": {},
   "outputs": [
    {
     "data": {
      "text/latex": [
       "$3492.9194 \\; \\mathrm{M_{\\odot}}$"
      ],
      "text/plain": [
       "<Quantity 3492.91941135 solMass>"
      ]
     },
     "execution_count": 39,
     "metadata": {},
     "output_type": "execute_result"
    }
   ],
   "source": [
    "ratio_16O_18O = 327 # from Wilson & Rood 1994\n",
    "ww = wcs.WCS(subcube_C18O_mom0.header)\n",
    "N_C18O = np.nansum(column_density_C18O.value) * u.cm**(-2)\n",
    "pixel_physical_area = (ww.proj_plane_pixel_scales()[0] * 5 * u.kpc).to(u.cm, u.dimensionless_angles())**2\n",
    "M_C18O = N_C18O * pixel_physical_area * 2.8 * u.Da\n",
    "mass_C18O = M_C18O.to(u.M_sun) * ratio_16O_18O / co_abundance\n",
    "mass_C18O"
   ]
  },
  {
   "cell_type": "code",
   "execution_count": 138,
   "metadata": {},
   "outputs": [
    {
     "data": {
      "text/latex": [
       "$2670.4277 \\; \\mathrm{M_{\\odot}}$"
      ],
      "text/plain": [
       "<Quantity 2670.42768452 solMass>"
      ]
     },
     "execution_count": 138,
     "metadata": {},
     "output_type": "execute_result"
    }
   ],
   "source": [
    "ratio_16O_18O_GC = 250 # from Wilson & Rood 1994\n",
    "mass_C18O_GC = M_C18O.to(u.M_sun) * ratio_16O_18O_GC / co_abundance\n",
    "mass_C18O_GC"
   ]
  },
  {
   "cell_type": "code",
   "execution_count": 27,
   "metadata": {},
   "outputs": [
    {
     "data": {
      "text/latex": [
       "$1.1840461 \\times 10^{22} \\; \\mathrm{\\frac{1}{cm^{2}}}$"
      ],
      "text/plain": [
       "<Projection 1.18404607e+22 1 / cm2>"
      ]
     },
     "execution_count": 27,
     "metadata": {},
     "output_type": "execute_result"
    }
   ],
   "source": [
    "coldens_C18O = np.nanmean(column_density_C18O) * ratio_16O_18O / co_abundance\n",
    "coldens_C18O"
   ]
  },
  {
   "cell_type": "code",
   "execution_count": 28,
   "metadata": {},
   "outputs": [
    {
     "data": {
      "text/latex": [
       "$4.8093875 \\times 10^{21} \\; \\mathrm{\\frac{1}{cm^{2}}}$"
      ],
      "text/plain": [
       "<Projection 4.80938755e+21 1 / cm2>"
      ]
     },
     "execution_count": 28,
     "metadata": {},
     "output_type": "execute_result"
    }
   ],
   "source": [
    "coldens_C18O_err = coldens_C18O*(np.nanstd(subcube_C18O_mom0)/np.nanmean(subcube_C18O_mom0))\n",
    "coldens_C18O_err"
   ]
  },
  {
   "cell_type": "code",
   "execution_count": 29,
   "metadata": {},
   "outputs": [
    {
     "data": {
      "text/latex": [
       "$1418.7626 \\; \\mathrm{M_{\\odot}}$"
      ],
      "text/plain": [
       "<Projection 1418.76262681 solMass>"
      ]
     },
     "execution_count": 29,
     "metadata": {},
     "output_type": "execute_result"
    }
   ],
   "source": [
    "mass_C18O_err = mass_C18O * coldens_C18O_err / coldens_C18O\n",
    "mass_C18O_err"
   ]
  },
  {
   "cell_type": "markdown",
   "metadata": {},
   "source": [
    "## Extinction Mass"
   ]
  },
  {
   "cell_type": "raw",
   "metadata": {
    "vscode": {
     "languageId": "raw"
    }
   },
   "source": [
    "ext_map = ex.make_extinction_map(Av_fill=85)\n",
    "ww = ex.get_wcs()\n",
    "mass_extinction = ex.get_mass_estimate(ext_map, ww)\n",
    "mass_extinction"
   ]
  },
  {
   "cell_type": "raw",
   "metadata": {
    "vscode": {
     "languageId": "raw"
    }
   },
   "source": [
    "ext_laws = [RL85_MWGC(), RRP89_MWGC(), I05_MWAvg(), CT06_MWLoc(), CT06_MWGC(), F11_MWGC(), G21_MWAvg(), D22_MWAvg()]\n",
    "av_fills = [70, 80, 80, 85, 85, 60, 75, 76]\n",
    "av_masses = []\n",
    "for i, ext in enumerate(ext_laws):\n",
    "    ext_mapp = ex.make_extinction_map(ext=ext, Av_fill=av_fills[i])\n",
    "    av_masses.append(ex.get_mass_estimate(ext_mapp, ww).value)\n",
    "\n",
    "print('Max:', np.max(av_masses), 'Min:', np.min(av_masses))"
   ]
  },
  {
   "cell_type": "raw",
   "metadata": {
    "vscode": {
     "languageId": "raw"
    }
   },
   "source": [
    "ext_N = ext_map*2.21*10**21*u.cm**-2\n",
    "coldens_extinction = np.nanmean(ext_N)\n",
    "coldens_extinction"
   ]
  },
  {
   "cell_type": "raw",
   "metadata": {
    "vscode": {
     "languageId": "raw"
    }
   },
   "source": [
    "ext_map_CT06 = ex.make_extinction_map(ext=CT06_MWGC(), Av_fill=85)\n",
    "ext_map_F11 = ex.make_extinction_map(ext=F11_MWGC(), Av_fill=60)"
   ]
  },
  {
   "cell_type": "raw",
   "metadata": {
    "vscode": {
     "languageId": "raw"
    }
   },
   "source": [
    "# 2.21 +/- 0.09 x 10**21\n",
    "#ext_N_CT06 = ext_map_CT06*2.21*10**21*u.cm**-2\n",
    "#ext_N_F11 = ext_map_F11*2.21*10**21*u.cm**-2\n",
    "#\n",
    "#coldens_extinction_CT06 = np.nanmean(ext_N_CT06)\n",
    "#coldens_extinction_F11 = np.nanmean(ext_N_F11)\n",
    "\n",
    "coldens_extinction_err = np.sqrt((np.nanstd(ext_N)/np.nanmean(ext_N))**2 + (0.09/2.21)**2)*coldens_extinction\n",
    "coldens_extinction_err"
   ]
  },
  {
   "cell_type": "code",
   "execution_count": null,
   "metadata": {},
   "outputs": [],
   "source": [
    "av_map = fits.open('/orange/adamginsburg/jwst/cloudc/images/filament_av_map.fits')[0]\n",
    "ww_ext = wcs.WCS(av_map.header)\n",
    "mass_extinction = ex.get_mass_estimate(av_map.data, ww_ext, dist=5*u.kpc, factor=2*10**21*u.cm**-2, mpp=2.8*u.u)"
   ]
  },
  {
   "cell_type": "markdown",
   "metadata": {},
   "source": [
    "## PPMAP"
   ]
  },
  {
   "cell_type": "code",
   "execution_count": 1,
   "metadata": {},
   "outputs": [],
   "source": [
    "ppmap = '/orange/adamginsburg/galactic_plane_surveys/higal/PPMAP_Results/l000_results/l000_cdens.fits'"
   ]
  },
  {
   "cell_type": "code",
   "execution_count": 2,
   "metadata": {},
   "outputs": [
    {
     "ename": "NameError",
     "evalue": "name 'reg' is not defined",
     "output_type": "error",
     "traceback": [
      "\u001b[0;31m---------------------------------------------------------------------------\u001b[0m",
      "\u001b[0;31mNameError\u001b[0m                                 Traceback (most recent call last)",
      "Cell \u001b[0;32mIn[2], line 1\u001b[0m\n\u001b[0;32m----> 1\u001b[0m r0 \u001b[38;5;241m=\u001b[39m \u001b[43mreg\u001b[49m\u001b[38;5;66;03m#[0]\u001b[39;00m\n\u001b[1;32m      2\u001b[0m hdul \u001b[38;5;241m=\u001b[39m fits\u001b[38;5;241m.\u001b[39mopen(ppmap)\n\u001b[1;32m      3\u001b[0m ww \u001b[38;5;241m=\u001b[39m wcs\u001b[38;5;241m.\u001b[39mWCS(hdul[\u001b[38;5;241m0\u001b[39m]\u001b[38;5;241m.\u001b[39mheader)\n",
      "\u001b[0;31mNameError\u001b[0m: name 'reg' is not defined"
     ]
    }
   ],
   "source": [
    "r0 = reg#[0]\n",
    "hdul = fits.open(ppmap)\n",
    "ww = wcs.WCS(hdul[0].header)\n",
    "preg = r0.to_pixel(ww)\n",
    "mask = preg.to_mask()\n",
    "cutout = mask.cutout(hdul[0].data)\n",
    "#pixelarea = 1*u.pixel\n",
    "cden = (mask.multiply(hdul[0].data) * (10**20) * u.cm**(-2))\n",
    "        #* u.Unit(hdul[0].header['BUNIT']))\n",
    "u.Unit(hdul[0].header['BUNIT'])"
   ]
  },
  {
   "cell_type": "code",
   "execution_count": 36,
   "metadata": {},
   "outputs": [
    {
     "data": {
      "text/latex": [
       "$2.4469175 \\times 10^{22} \\; \\mathrm{\\frac{1}{cm^{2}}}$"
      ],
      "text/plain": [
       "<Quantity 2.44691751e+22 1 / cm2>"
      ]
     },
     "execution_count": 36,
     "metadata": {},
     "output_type": "execute_result"
    }
   ],
   "source": [
    "coldens_ppmap = np.nanmean(cden)\n",
    "coldens_ppmap"
   ]
  },
  {
   "cell_type": "code",
   "execution_count": 37,
   "metadata": {},
   "outputs": [
    {
     "data": {
      "text/latex": [
       "$15287.311 \\; \\mathrm{M_{\\odot}}$"
      ],
      "text/plain": [
       "<Quantity 15287.31118604 solMass>"
      ]
     },
     "execution_count": 37,
     "metadata": {},
     "output_type": "execute_result"
    }
   ],
   "source": [
    "pix_area_2 = ww.celestial.proj_plane_pixel_area()\n",
    "pix_area_cm_2 = (pix_area_2 * (5*u.kpc)**2).to(u.parsec**2, equivalencies=u.dimensionless_angles()).to(u.cm**2)\n",
    "mass_ppmap = (pix_area_cm_2 * cden * u.Da*2.8).to(u.M_sun).sum()\n",
    "mass_ppmap"
   ]
  },
  {
   "cell_type": "code",
   "execution_count": 38,
   "metadata": {},
   "outputs": [
    {
     "data": {
      "text/latex": [
       "$4.1404419 \\times 10^{20} \\; \\mathrm{\\frac{1}{cm^{2}}}$"
      ],
      "text/plain": [
       "<Quantity 4.14044193e+20 1 / cm2>"
      ]
     },
     "execution_count": 38,
     "metadata": {},
     "output_type": "execute_result"
    }
   ],
   "source": [
    "coldens_ppmap_err = mask.multiply(fits.open('/orange/adamginsburg/galactic_plane_surveys/higal/PPMAP_Results/l000_results/l000_sigdiffcdens.fits')[0].data[5]).mean()* (10**20) * u.cm**(-2)#*u.Unit(hdul[0].header['BUNIT'])\n",
    "coldens_ppmap_err "
   ]
  },
  {
   "cell_type": "code",
   "execution_count": 39,
   "metadata": {},
   "outputs": [
    {
     "data": {
      "text/latex": [
       "$258.67739 \\; \\mathrm{M_{\\odot}}$"
      ],
      "text/plain": [
       "<Quantity 258.67739222 solMass>"
      ]
     },
     "execution_count": 39,
     "metadata": {},
     "output_type": "execute_result"
    }
   ],
   "source": [
    "mass_ppmap_err = mass_ppmap * coldens_ppmap_err / coldens_ppmap\n",
    "mass_ppmap_err"
   ]
  },
  {
   "cell_type": "markdown",
   "metadata": {},
   "source": [
    "## CO Ice"
   ]
  },
  {
   "cell_type": "raw",
   "metadata": {
    "vscode": {
     "languageId": "raw"
    }
   },
   "source": [
    "co_column_map = co_map.make_co_column_map()\n",
    "ww = ex.get_wcs()"
   ]
  },
  {
   "cell_type": "code",
   "execution_count": null,
   "metadata": {},
   "outputs": [],
   "source": [
    "co_col = fits.open('/orange/adamginsburg/jwst/cloudc/images/filament_co_ice_col_map.fits')[0]\n",
    "co_column_map = co_col.data\n",
    "ww_co = wcs.WCS(co_col.header)"
   ]
  },
  {
   "cell_type": "code",
   "execution_count": null,
   "metadata": {},
   "outputs": [
    {
     "data": {
      "text/plain": [
       "<matplotlib.colorbar.Colorbar at 0x150b6d621460>"
      ]
     },
     "execution_count": 11,
     "metadata": {},
     "output_type": "execute_result"
    },
    {
     "data": {
      "image/png": "[encoded data removed]",
      "text/plain": [
       "<Figure size 640x480 with 2 Axes>"
      ]
     },
     "metadata": {},
     "output_type": "display_data"
    }
   ],
   "source": [
    "ax = plt.subplot(projection=ww_co)\n",
    "im = ax.imshow(np.log10(co_col), origin='lower')\n",
    "plt.colorbar(im, label='Column Density (cm$^{-2}$)')"
   ]
  },
  {
   "cell_type": "code",
   "execution_count": null,
   "metadata": {},
   "outputs": [
    {
     "data": {
      "text/latex": [
       "$3106.9388 \\; \\mathrm{M_{\\odot}}$"
      ],
      "text/plain": [
       "<Quantity 3106.93876767 solMass>"
      ]
     },
     "execution_count": 12,
     "metadata": {},
     "output_type": "execute_result"
    }
   ],
   "source": [
    "co_abundance = 10**(-4)\n",
    "pixel_area_physical = (ww_co.proj_plane_pixel_scales()[0] * 5*u.kpc).to(u.cm, u.dimensionless_angles())**2\n",
    "mpp = 2.8*u.Da\n",
    "# grid_interp = N(CO) map after interpolation\n",
    "mass_co_ice = (np.nansum(co_column_map) * u.cm**(-2) * pixel_area_physical * mpp / co_abundance).to(u.Msun)\n",
    "mass_co_ice"
   ]
  },
  {
   "cell_type": "code",
   "execution_count": null,
   "metadata": {},
   "outputs": [],
   "source": []
  },
  {
   "cell_type": "code",
   "execution_count": 13,
   "metadata": {},
   "outputs": [
    {
     "data": {
      "text/latex": [
       "${\\rm NaN} \\; \\mathrm{M_{\\odot}}$"
      ],
      "text/plain": [
       "<Quantity nan solMass>"
      ]
     },
     "execution_count": 13,
     "metadata": {},
     "output_type": "execute_result"
    }
   ],
   "source": [
    "mass_co_ice_err = np.nan*u.Msun\n",
    "mass_co_ice_err"
   ]
  },
  {
   "cell_type": "code",
   "execution_count": 14,
   "metadata": {},
   "outputs": [
    {
     "data": {
      "text/latex": [
       "$1.0539718 \\times 10^{22} \\; \\mathrm{\\frac{1}{cm^{2}}}$"
      ],
      "text/plain": [
       "<Quantity 1.0539718e+22 1 / cm2>"
      ]
     },
     "execution_count": 14,
     "metadata": {},
     "output_type": "execute_result"
    }
   ],
   "source": [
    "coldens_co_ice = np.nanmean(co_column_map) * u.cm**(-2) / co_abundance\n",
    "coldens_co_ice"
   ]
  },
  {
   "cell_type": "code",
   "execution_count": 15,
   "metadata": {},
   "outputs": [
    {
     "data": {
      "text/latex": [
       "$4.7732812 \\times 10^{22} \\; \\mathrm{\\frac{1}{cm^{2}}}$"
      ],
      "text/plain": [
       "<Quantity 4.77328121e+22 1 / cm2>"
      ]
     },
     "execution_count": 15,
     "metadata": {},
     "output_type": "execute_result"
    }
   ],
   "source": [
    "coldens_co_ice_err = np.nanstd(co_column_map) * u.cm**(-2) / co_abundance\n",
    "coldens_co_ice_err"
   ]
  },
  {
   "cell_type": "markdown",
   "metadata": {},
   "source": [
    "## Mass Table"
   ]
  },
  {
   "cell_type": "code",
   "execution_count": null,
   "metadata": {},
   "outputs": [],
   "source": [
    "methods = ['A$_V times 2e21$', '$^{12}CO$ X-factor', '$^{13}$CO LTE', 'C$^{18}$O LTE', 'PPMAP', 'CO Ice']\n",
    "masses = [mass_extinction, mass_Xfactor, mass_13CO, mass_C18O, mass_ppmap, mass_co_ice]\n",
    "masses_err = [mass_extinction_err, mass_Xfactor_err, mass_13CO_err, mass_C18O_err, mass_ppmap_err]\n",
    "coldens = [coldens_extinction, coldens_Xfactor, coldens_13CO, coldens_C18O, coldens_ppmap]\n",
    "coldens_err = [coldens_extinction_err, coldens_Xfactor_err, coldens_13CO_err, coldens_C18O_err, coldens_ppmap_err]\n",
    "\n",
    "column_names = ['Method', 'Mass', 'Mass Error', 'Column Density', 'Column Density Error']"
   ]
  },
  {
   "cell_type": "code",
   "execution_count": 131,
   "metadata": {},
   "outputs": [
    {
     "name": "stdout",
     "output_type": "stream",
     "text": [
      "A$_V times 2e21$ 20326.089992822755 solMass 2788.9034782794915 solMass 6.895251951673146e+44 1 / cm2 3.1675666328029433e+44 1 / cm2\n",
      "$^{12}CO$ X-factor 2368.6564662298774 solMass 429.9763976879777 solMass 8.029381561279297e+43 1 / cm2 1.4575539376870044e+43 1 / cm2\n",
      "$^{13}$CO LTE 2323.28420176602 solMass 427.87487264843867 solMass 7.875576855020133e+43 1 / cm2 1.4504301459602926e+43 1 / cm2\n",
      "C$^{18}$O LTE 3492.919411351405 solMass 1418.7626268094068 solMass 1.184046069421002e+44 1 / cm2 4.809387546290829e+43 1 / cm2\n",
      "PPMAP 15287.311186037461 solMass 258.6773922152559 solMass 2.446917514944868e+44 1 / cm2 4.140441926176552e+42 1 / cm2\n"
     ]
    }
   ],
   "source": [
    "for i in range(len(methods)):\n",
    "    print(methods[i], masses[i], masses_err[i], coldens[i]*10**22, coldens_err[i]*10**22)\n",
    "    masses[i] = int(masses[i].value)*u.M_sun\n",
    "    masses_err[i] = int(masses_err[i].value)*u.M_sun\n",
    "    column_density[i] = np.round(coldens[i].value/10**22*u.cm**-2, 2)\n",
    "    column_density_err[i] = np.round(coldens_err[i].value/10**22*u.cm**-2, 2)"
   ]
  },
  {
   "cell_type": "code",
   "execution_count": 132,
   "metadata": {},
   "outputs": [
    {
     "data": {
      "text/html": [
       "<div><i>Table length=5</i>\n",
       "<table id=\"table23206697996976\" class=\"table-striped table-bordered table-condensed\">\n",
       "<thead><tr><th>Method</th><th>Mass</th><th>Mass Error</th><th>Column Density</th><th>Column Density Error</th></tr></thead>\n",
       "<thead><tr><th></th><th>solMass</th><th>solMass</th><th>1 / cm2</th><th>1 / cm2</th></tr></thead>\n",
       "<thead><tr><th>str18</th><th>float64</th><th>float64</th><th>float64</th><th>float64</th></tr></thead>\n",
       "<tr><td>A$_V times 2e21$</td><td>20326.0</td><td>2788.0</td><td>6.9</td><td>3.17</td></tr>\n",
       "<tr><td>$^{12}CO$ X-factor</td><td>2368.0</td><td>429.0</td><td>0.8</td><td>0.15</td></tr>\n",
       "<tr><td>$^{13}$CO LTE</td><td>2323.0</td><td>427.0</td><td>0.79</td><td>0.15</td></tr>\n",
       "<tr><td>C$^{18}$O LTE</td><td>3492.0</td><td>1418.0</td><td>1.18</td><td>0.48</td></tr>\n",
       "<tr><td>PPMAP</td><td>15287.0</td><td>258.0</td><td>2.45</td><td>0.04</td></tr>\n",
       "</table></div>"
      ],
      "text/plain": [
       "<Table length=5>\n",
       "      Method         Mass  Mass Error Column Density Column Density Error\n",
       "                   solMass  solMass      1 / cm2           1 / cm2       \n",
       "      str18        float64  float64      float64           float64       \n",
       "------------------ ------- ---------- -------------- --------------------\n",
       "  A$_V times 2e21$ 20326.0     2788.0            6.9                 3.17\n",
       "$^{12}CO$ X-factor  2368.0      429.0            0.8                 0.15\n",
       "     $^{13}$CO LTE  2323.0      427.0           0.79                 0.15\n",
       "     C$^{18}$O LTE  3492.0     1418.0           1.18                 0.48\n",
       "             PPMAP 15287.0      258.0           2.45                 0.04"
      ]
     },
     "execution_count": 132,
     "metadata": {},
     "output_type": "execute_result"
    }
   ],
   "source": [
    "tbl = Table([methods, masses, masses_err, column_density, column_density_err], names=column_names)\n",
    "tbl"
   ]
  },
  {
   "cell_type": "code",
   "execution_count": 133,
   "metadata": {},
   "outputs": [],
   "source": [
    "tbl.write('masses_table.tex', format='ascii.latex', overwrite=True)"
   ]
  },
  {
   "cell_type": "markdown",
   "metadata": {},
   "source": [
    "# Mass within region"
   ]
  },
  {
   "cell_type": "code",
   "execution_count": 16,
   "metadata": {},
   "outputs": [],
   "source": [
    "reg_f = Regions.read('/orange/adamginsburg/jwst/cloudc/lactea-filament/lactea-filament/regions_/filament_short.region')"
   ]
  },
  {
   "cell_type": "markdown",
   "metadata": {},
   "source": [
    "## Strong et al 1988"
   ]
  },
  {
   "cell_type": "code",
   "execution_count": 91,
   "metadata": {},
   "outputs": [],
   "source": [
    "subcube_12CO = cube_12CO.subcube_from_regions(reg_f)\n",
    "subcube_12CO = subcube_12CO.with_spectral_unit(u.km/u.s).spectral_slab(-57*u.km/u.s, -53*u.km/u.s)#(-56*u.km/u.s, -54*u.km/u.s)#\n",
    "\n",
    "subcube_12CO_mom0 = subcube_12CO.moment0()"
   ]
  },
  {
   "cell_type": "code",
   "execution_count": 92,
   "metadata": {},
   "outputs": [
    {
     "data": {
      "image/png": "[encoded data removed]",
      "text/plain": [
       "<Figure size 640x480 with 1 Axes>"
      ]
     },
     "metadata": {},
     "output_type": "display_data"
    }
   ],
   "source": [
    "ax = plt.subplot(projection=subcube_12CO_mom0.wcs)\n",
    "im = ax.imshow(subcube_12CO_mom0.value, origin='lower', cmap='inferno')"
   ]
  },
  {
   "cell_type": "code",
   "execution_count": 93,
   "metadata": {},
   "outputs": [
    {
     "data": {
      "text/latex": [
       "$935.29762 \\; \\mathrm{M_{\\odot}}$"
      ],
      "text/plain": [
       "<Quantity 935.29761534 solMass>"
      ]
     },
     "execution_count": 93,
     "metadata": {},
     "output_type": "execute_result"
    }
   ],
   "source": [
    "ww = subcube_12CO_mom0.wcs\n",
    "subcube_N = np.nansum(subcube_12CO_mom0.value) * subcube_12CO_mom0.unit * 2.3 * 10**20 * u.cm**-2 * u.K**-1 * u.km**-1 * u.s\n",
    "pixel_area_physical = (ww.proj_plane_pixel_scales()[0] * 5 * u.kpc).to(u.cm, u.dimensionless_angles())**2\n",
    "mass_Xfactor = (subcube_N * pixel_area_physical * 2.8 * u.u).to(u.Msun)\n",
    "mass_Xfactor"
   ]
  },
  {
   "cell_type": "code",
   "execution_count": 94,
   "metadata": {},
   "outputs": [
    {
     "data": {
      "text/latex": [
       "$8.2556922 \\times 10^{21} \\; \\mathrm{\\frac{1}{cm^{2}}}$"
      ],
      "text/plain": [
       "<Projection 8.25569218e+21 1 / cm2>"
      ]
     },
     "execution_count": 94,
     "metadata": {},
     "output_type": "execute_result"
    }
   ],
   "source": [
    "coldens_Xfactor = np.nanmean(subcube_12CO_mom0)* 2.3 * 10**20 * u.cm**-2 * u.K**-1 * u.km**-1 * u.s\n",
    "coldens_Xfactor"
   ]
  },
  {
   "cell_type": "code",
   "execution_count": 95,
   "metadata": {},
   "outputs": [
    {
     "data": {
      "text/latex": [
       "$1.40742 \\times 10^{21} \\; \\mathrm{\\frac{1}{cm^{2}}}$"
      ],
      "text/plain": [
       "<Projection 1.40741997e+21 1 / cm2>"
      ]
     },
     "execution_count": 95,
     "metadata": {},
     "output_type": "execute_result"
    }
   ],
   "source": [
    "coldens_Xfactor_err = np.sqrt((np.nanstd(subcube_12CO_mom0)/np.nanmean(subcube_12CO_mom0))**2 + (0.3/2.3)**2)*coldens_Xfactor\n",
    "coldens_Xfactor_err"
   ]
  },
  {
   "cell_type": "code",
   "execution_count": 96,
   "metadata": {},
   "outputs": [
    {
     "data": {
      "text/latex": [
       "$159.44836 \\; \\mathrm{M_{\\odot}}$"
      ],
      "text/plain": [
       "<Projection 159.448356 solMass>"
      ]
     },
     "execution_count": 96,
     "metadata": {},
     "output_type": "execute_result"
    }
   ],
   "source": [
    "mass_Xfactor_err = np.sqrt((coldens_Xfactor_err/coldens_Xfactor)**2)*mass_Xfactor\n",
    "mass_Xfactor_err"
   ]
  },
  {
   "cell_type": "markdown",
   "metadata": {},
   "source": [
    "## Isotopologue Mass"
   ]
  },
  {
   "cell_type": "markdown",
   "metadata": {},
   "source": [
    "### 13CO"
   ]
  },
  {
   "cell_type": "code",
   "execution_count": 97,
   "metadata": {},
   "outputs": [],
   "source": [
    "subcube_13CO = cube_13CO.subcube_from_regions(reg_f)\n",
    "subcube_13CO = subcube_13CO.with_spectral_unit(u.km/u.s).spectral_slab(-57*u.km/u.s, -53*u.km/u.s)#(-56*u.km/u.s, -54*u.km/u.s)#\n",
    "\n",
    "subcube_13CO_mom0 = subcube_13CO.moment0()"
   ]
  },
  {
   "cell_type": "code",
   "execution_count": 98,
   "metadata": {},
   "outputs": [],
   "source": [
    "column_density_13CO = get_13CO_10_N(20*u.K, subcube_13CO_mom0)"
   ]
  },
  {
   "cell_type": "code",
   "execution_count": 99,
   "metadata": {},
   "outputs": [
    {
     "data": {
      "text/latex": [
       "$980.9015 \\; \\mathrm{M_{\\odot}}$"
      ],
      "text/plain": [
       "<Quantity 980.90149717 solMass>"
      ]
     },
     "execution_count": 99,
     "metadata": {},
     "output_type": "execute_result"
    }
   ],
   "source": [
    "ratio_12C_13C = 53 # from Wilson & Rood 1994\n",
    "ww = wcs.WCS(subcube_13CO_mom0.header)\n",
    "N_13CO = np.nansum(column_density_13CO.value) * u.cm**(-2)\n",
    "pixel_physical_area = (ww.proj_plane_pixel_scales()[0] * 5 * u.kpc).to(u.cm, u.dimensionless_angles())**2\n",
    "M_13CO = N_13CO * pixel_physical_area * 2.8 * u.Da\n",
    "mass_13CO = M_13CO.to(u.M_sun) * ratio_12C_13C / co_abundance\n",
    "mass_13CO"
   ]
  },
  {
   "cell_type": "code",
   "execution_count": 100,
   "metadata": {},
   "outputs": [
    {
     "data": {
      "text/latex": [
       "$370.15151 \\; \\mathrm{M_{\\odot}}$"
      ],
      "text/plain": [
       "<Quantity 370.15150836 solMass>"
      ]
     },
     "execution_count": 100,
     "metadata": {},
     "output_type": "execute_result"
    }
   ],
   "source": [
    "ratio_12C_13C_GC = 20 # from Wilson & Rood 1994\n",
    "mass_13CO_GC = M_13CO.to(u.M_sun) * ratio_12C_13C_GC / co_abundance\n",
    "mass_13CO_GC"
   ]
  },
  {
   "cell_type": "code",
   "execution_count": 101,
   "metadata": {},
   "outputs": [
    {
     "data": {
      "text/latex": [
       "$8.6582293 \\times 10^{21} \\; \\mathrm{\\frac{1}{cm^{2}}}$"
      ],
      "text/plain": [
       "<Projection 8.65822931e+21 1 / cm2>"
      ]
     },
     "execution_count": 101,
     "metadata": {},
     "output_type": "execute_result"
    }
   ],
   "source": [
    "coldens_13CO = np.nanmean(column_density_13CO) * ratio_12C_13C / co_abundance\n",
    "coldens_13CO"
   ]
  },
  {
   "cell_type": "code",
   "execution_count": 102,
   "metadata": {},
   "outputs": [
    {
     "data": {
      "text/latex": [
       "$9.643458 \\times 10^{20} \\; \\mathrm{\\frac{1}{cm^{2}}}$"
      ],
      "text/plain": [
       "<Projection 9.64345805e+20 1 / cm2>"
      ]
     },
     "execution_count": 102,
     "metadata": {},
     "output_type": "execute_result"
    }
   ],
   "source": [
    "coldens_13CO_err = coldens_13CO*(np.nanstd(subcube_13CO_mom0)/np.nanmean(subcube_13CO_mom0))\n",
    "coldens_13CO_err"
   ]
  },
  {
   "cell_type": "code",
   "execution_count": 103,
   "metadata": {},
   "outputs": [
    {
     "data": {
      "text/latex": [
       "$109.25193 \\; \\mathrm{M_{\\odot}}$"
      ],
      "text/plain": [
       "<Projection 109.25192778 solMass>"
      ]
     },
     "execution_count": 103,
     "metadata": {},
     "output_type": "execute_result"
    }
   ],
   "source": [
    "mass_13CO_err = mass_13CO * coldens_13CO_err / coldens_13CO\n",
    "mass_13CO_err"
   ]
  },
  {
   "cell_type": "markdown",
   "metadata": {},
   "source": [
    "### C18O"
   ]
  },
  {
   "cell_type": "code",
   "execution_count": 104,
   "metadata": {},
   "outputs": [],
   "source": [
    "subcube_C18O = cube_C18O.subcube_from_regions(reg_f)\n",
    "subcube_C18O = subcube_C18O.with_spectral_unit(u.km/u.s).spectral_slab(-57*u.km/u.s, -53*u.km/u.s)#(-56*u.km/u.s, -54*u.km/u.s)#\n",
    "\n",
    "subcube_C18O_mom0 = subcube_C18O.moment0()"
   ]
  },
  {
   "cell_type": "code",
   "execution_count": 105,
   "metadata": {},
   "outputs": [],
   "source": [
    "column_density_C18O = get_C18O_10_N(20*u.K, subcube_C18O_mom0)"
   ]
  },
  {
   "cell_type": "code",
   "execution_count": 106,
   "metadata": {},
   "outputs": [
    {
     "data": {
      "text/latex": [
       "$1752.2903 \\; \\mathrm{M_{\\odot}}$"
      ],
      "text/plain": [
       "<Quantity 1752.29028913 solMass>"
      ]
     },
     "execution_count": 106,
     "metadata": {},
     "output_type": "execute_result"
    }
   ],
   "source": [
    "ratio_16O_18O = 327 # from Wilson & Rood 1994\n",
    "ww = wcs.WCS(subcube_C18O_mom0.header)\n",
    "N_C18O = np.nansum(column_density_C18O.value) * u.cm**(-2)\n",
    "pixel_physical_area = (ww.proj_plane_pixel_scales()[0] * 5 * u.kpc).to(u.cm, u.dimensionless_angles())**2\n",
    "M_C18O = N_C18O * pixel_physical_area * 2.8 * u.Da\n",
    "mass_C18O = M_C18O.to(u.M_sun) * ratio_16O_18O / co_abundance\n",
    "mass_C18O"
   ]
  },
  {
   "cell_type": "code",
   "execution_count": 107,
   "metadata": {},
   "outputs": [
    {
     "data": {
      "text/latex": [
       "$1339.6715 \\; \\mathrm{M_{\\odot}}$"
      ],
      "text/plain": [
       "<Quantity 1339.67147487 solMass>"
      ]
     },
     "execution_count": 107,
     "metadata": {},
     "output_type": "execute_result"
    }
   ],
   "source": [
    "ratio_16O_18O_GC = 250 # from Wilson & Rood 1994\n",
    "mass_C18O_GC = M_C18O.to(u.M_sun) * ratio_16O_18O_GC / co_abundance\n",
    "mass_C18O_GC"
   ]
  },
  {
   "cell_type": "code",
   "execution_count": 108,
   "metadata": {},
   "outputs": [
    {
     "data": {
      "text/latex": [
       "$1.546713 \\times 10^{22} \\; \\mathrm{\\frac{1}{cm^{2}}}$"
      ],
      "text/plain": [
       "<Projection 1.54671302e+22 1 / cm2>"
      ]
     },
     "execution_count": 108,
     "metadata": {},
     "output_type": "execute_result"
    }
   ],
   "source": [
    "coldens_C18O = np.nanmean(column_density_C18O) * ratio_16O_18O / co_abundance\n",
    "coldens_C18O"
   ]
  },
  {
   "cell_type": "code",
   "execution_count": 109,
   "metadata": {},
   "outputs": [
    {
     "data": {
      "text/latex": [
       "$3.3411733 \\times 10^{21} \\; \\mathrm{\\frac{1}{cm^{2}}}$"
      ],
      "text/plain": [
       "<Projection 3.34117332e+21 1 / cm2>"
      ]
     },
     "execution_count": 109,
     "metadata": {},
     "output_type": "execute_result"
    }
   ],
   "source": [
    "coldens_C18O_err = coldens_C18O*(np.nanstd(subcube_C18O_mom0)/np.nanmean(subcube_C18O_mom0))\n",
    "coldens_C18O_err"
   ]
  },
  {
   "cell_type": "code",
   "execution_count": 110,
   "metadata": {},
   "outputs": [
    {
     "data": {
      "text/latex": [
       "$378.52565 \\; \\mathrm{M_{\\odot}}$"
      ],
      "text/plain": [
       "<Projection 378.52565399 solMass>"
      ]
     },
     "execution_count": 110,
     "metadata": {},
     "output_type": "execute_result"
    }
   ],
   "source": [
    "mass_C18O_err = mass_C18O * coldens_C18O_err / coldens_C18O\n",
    "mass_C18O_err"
   ]
  },
  {
   "cell_type": "markdown",
   "metadata": {},
   "source": [
    "## Extinction"
   ]
  },
  {
   "cell_type": "code",
   "execution_count": null,
   "metadata": {},
   "outputs": [
    {
     "data": {
      "text/latex": [
       "$6479.4411 \\; \\mathrm{M_{\\odot}}$"
      ],
      "text/plain": [
       "<Quantity 6479.44108581 solMass>"
      ]
     },
     "execution_count": 7,
     "metadata": {},
     "output_type": "execute_result"
    }
   ],
   "source": [
    "#ext_map = ex.make_extinction_map(Av_fill=85, reg=reg_f)\n",
    "#ext_map[ext_map < 1] = np.nan\n",
    "#ww = ex.get_wcs()\n",
    "#mass_extinction = ex.get_mass_estimate(ext_map, ww)\n",
    "#mass_extinction\n"
   ]
  },
  {
   "cell_type": "code",
   "execution_count": null,
   "metadata": {},
   "outputs": [],
   "source": [
    "ext_map = av_map.data\n",
    "reg_f_pix = reg_f.to_pixel(ww_ext)\n",
    "mask = reg_f_pix.to_mask()\n",
    "#cutout = mask.cutout(ext_map)\n",
    "ext_map = mask.multiply(ext_map)\n",
    "mass_extinction = ex.get_mass_estimate(ext_map, ww_ext, dist=5*u.kpc, factor=2*10**21*u.cm**-2, mpp=2.8*u.u)\n",
    "mass_extinction"
   ]
  },
  {
   "cell_type": "code",
   "execution_count": 9,
   "metadata": {},
   "outputs": [
    {
     "data": {
      "text/plain": [
       "<matplotlib.colorbar.Colorbar at 0x14ee9c3170d0>"
      ]
     },
     "execution_count": 9,
     "metadata": {},
     "output_type": "execute_result"
    },
    {
     "data": {
      "image/png": "[encoded data removed]",
      "text/plain": [
       "<Figure size 640x480 with 2 Axes>"
      ]
     },
     "metadata": {},
     "output_type": "display_data"
    }
   ],
   "source": [
    "im = plt.imshow(ext_map, origin='lower')\n",
    "plt.colorbar(im, label='Av')"
   ]
  },
  {
   "cell_type": "raw",
   "metadata": {
    "vscode": {
     "languageId": "raw"
    }
   },
   "source": [
    "ext_laws = [RL85_MWGC(), RRP89_MWGC(), I05_MWAvg(), CT06_MWLoc(), CT06_MWGC(), F11_MWGC(), G21_MWAvg(), D22_MWAvg()]\n",
    "av_fills = [70, 80, 80, 85, 85, 60, 75, 76]\n",
    "av_masses = []\n",
    "for i, ext in enumerate(ext_laws):\n",
    "    ext_mapp = ex.make_extinction_map(ext=ext, Av_fill=av_fills[i], reg=reg_f)\n",
    "    ext_mapp[ext_mapp < 1] = np.nan\n",
    "    av_masses.append(ex.get_mass_estimate(ext_mapp, ww).value)\n",
    "\n",
    "print('Max:', np.max(av_masses), 'Min:', np.min(av_masses))"
   ]
  },
  {
   "cell_type": "raw",
   "metadata": {
    "vscode": {
     "languageId": "raw"
    }
   },
   "source": [
    "av_masses"
   ]
  },
  {
   "cell_type": "code",
   "execution_count": 14,
   "metadata": {},
   "outputs": [],
   "source": [
    "mass_extinction_err = 0*u.Msun"
   ]
  },
  {
   "cell_type": "code",
   "execution_count": 15,
   "metadata": {},
   "outputs": [
    {
     "data": {
      "text/latex": [
       "$4.8128818 \\times 10^{22} \\; \\mathrm{\\frac{1}{cm^{2}}}$"
      ],
      "text/plain": [
       "<Quantity 4.81288178e+22 1 / cm2>"
      ]
     },
     "execution_count": 15,
     "metadata": {},
     "output_type": "execute_result"
    }
   ],
   "source": [
    "ext_N = ext_map*2.21*10**21*u.cm**-2\n",
    "coldens_extinction = np.nanmean(ext_N)\n",
    "coldens_extinction"
   ]
  },
  {
   "cell_type": "raw",
   "metadata": {
    "vscode": {
     "languageId": "raw"
    }
   },
   "source": [
    "ext_map_CT06 = ex.make_extinction_map(ext=CT06_MWGC(), Av_fill=85, reg=reg_f)\n",
    "ext_map_F11 = ex.make_extinction_map(ext=F11_MWGC(), Av_fill=60, reg=reg_f)"
   ]
  },
  {
   "cell_type": "code",
   "execution_count": 16,
   "metadata": {},
   "outputs": [
    {
     "data": {
      "text/latex": [
       "$3.1455388 \\times 10^{22} \\; \\mathrm{\\frac{1}{cm^{2}}}$"
      ],
      "text/plain": [
       "<Quantity 3.14553885e+22 1 / cm2>"
      ]
     },
     "execution_count": 16,
     "metadata": {},
     "output_type": "execute_result"
    }
   ],
   "source": [
    "# 2.21 +/- 0.09 x 10**21\n",
    "#ext_N_CT06 = ext_map_CT06*2.21*10**21*u.cm**-2\n",
    "#ext_N_F11 = ext_map_F11*2.21*10**21*u.cm**-2\n",
    "#\n",
    "#coldens_extinction_CT06 = np.nanmean(ext_N_CT06)\n",
    "#coldens_extinction_F11 = np.nanmean(ext_N_F11)\n",
    "\n",
    "coldens_extinction_err = np.sqrt((np.nanstd(ext_N)/np.nanmean(ext_N))**2 + (0.09/2.21)**2)*coldens_extinction\n",
    "coldens_extinction_err"
   ]
  },
  {
   "cell_type": "markdown",
   "metadata": {},
   "source": [
    "## PPMAP"
   ]
  },
  {
   "cell_type": "code",
   "execution_count": 116,
   "metadata": {},
   "outputs": [],
   "source": [
    "ppmap = '/orange/adamginsburg/galactic_plane_surveys/higal/PPMAP_Results/l000_results/l000_cdens.fits'"
   ]
  },
  {
   "cell_type": "code",
   "execution_count": 117,
   "metadata": {},
   "outputs": [
    {
     "data": {
      "text/latex": [
       "$\\mathrm{1 \\times 10^{20}\\,\\frac{1}{cm^{2}}}$"
      ],
      "text/plain": [
       "Unit(\"1e+20 / cm2\")"
      ]
     },
     "execution_count": 117,
     "metadata": {},
     "output_type": "execute_result"
    }
   ],
   "source": [
    "r0 = reg_f[0]\n",
    "hdul = fits.open(ppmap)\n",
    "ww = wcs.WCS(hdul[0].header)\n",
    "preg = r0.to_pixel(ww)\n",
    "mask = preg.to_mask()\n",
    "cutout = mask.cutout(hdul[0].data)\n",
    "#pixelarea = 1*u.pixel\n",
    "cden = (mask.multiply(hdul[0].data) * (10**20) * u.cm**(-2))\n",
    "        #* u.Unit(hdul[0].header['BUNIT']))\n",
    "u.Unit(hdul[0].header['BUNIT'])"
   ]
  },
  {
   "cell_type": "code",
   "execution_count": 118,
   "metadata": {},
   "outputs": [
    {
     "data": {
      "text/latex": [
       "$2.0816525 \\times 10^{22} \\; \\mathrm{\\frac{1}{cm^{2}}}$"
      ],
      "text/plain": [
       "<Quantity 2.08165246e+22 1 / cm2>"
      ]
     },
     "execution_count": 118,
     "metadata": {},
     "output_type": "execute_result"
    }
   ],
   "source": [
    "coldens_ppmap = np.nanmean(cden)\n",
    "coldens_ppmap"
   ]
  },
  {
   "cell_type": "code",
   "execution_count": 119,
   "metadata": {},
   "outputs": [
    {
     "data": {
      "text/latex": [
       "$5413.9664 \\; \\mathrm{M_{\\odot}}$"
      ],
      "text/plain": [
       "<Quantity 5413.96636566 solMass>"
      ]
     },
     "execution_count": 119,
     "metadata": {},
     "output_type": "execute_result"
    }
   ],
   "source": [
    "pix_area_2 = ww.celestial.proj_plane_pixel_area()\n",
    "pix_area_cm_2 = (pix_area_2 * (5*u.kpc)**2).to(u.parsec**2, equivalencies=u.dimensionless_angles()).to(u.cm**2)\n",
    "mass_ppmap = (pix_area_cm_2 * cden * u.Da*2.8).to(u.M_sun).sum()\n",
    "mass_ppmap"
   ]
  },
  {
   "cell_type": "code",
   "execution_count": 120,
   "metadata": {},
   "outputs": [
    {
     "data": {
      "text/latex": [
       "$3.7768288 \\times 10^{20} \\; \\mathrm{\\frac{1}{cm^{2}}}$"
      ],
      "text/plain": [
       "<Quantity 3.77682876e+20 1 / cm2>"
      ]
     },
     "execution_count": 120,
     "metadata": {},
     "output_type": "execute_result"
    }
   ],
   "source": [
    "coldens_ppmap_err = mask.multiply(fits.open('/orange/adamginsburg/galactic_plane_surveys/higal/PPMAP_Results/l000_results/l000_sigdiffcdens.fits')[0].data[5]).mean()* (10**20) * u.cm**(-2)#*u.Unit(hdul[0].header['BUNIT'])\n",
    "coldens_ppmap_err "
   ]
  },
  {
   "cell_type": "code",
   "execution_count": 121,
   "metadata": {},
   "outputs": [
    {
     "data": {
      "text/latex": [
       "$98.227847 \\; \\mathrm{M_{\\odot}}$"
      ],
      "text/plain": [
       "<Quantity 98.22784687 solMass>"
      ]
     },
     "execution_count": 121,
     "metadata": {},
     "output_type": "execute_result"
    }
   ],
   "source": [
    "mass_ppmap_err = mass_ppmap * coldens_ppmap_err / coldens_ppmap\n",
    "mass_ppmap_err"
   ]
  },
  {
   "cell_type": "markdown",
   "metadata": {},
   "source": [
    "## CO Ice"
   ]
  },
  {
   "cell_type": "raw",
   "metadata": {
    "vscode": {
     "languageId": "raw"
    }
   },
   "source": [
    "cat_use = make_cat_use()\n",
    "ww = ex.get_wcs()\n",
    "cat_reg = JWSTCatalog(cat_use.table_region_mask(reg_f, ww))\n",
    "mask = (cat_reg.color('f182m', 'f410m') > 2)\n",
    "mask &= (cat_reg.color('f410m', 'f466n') < 0)\n",
    "cat_mask = JWSTCatalog(cat_reg.apply_mask(mask))\n",
    "\n",
    "cat_filament = JWSTCatalog(cat_use.table_region_mask([reg], ww))\n",
    "mask = (cat_filament.color('f182m', 'f410m') > 2)\n",
    "mask &= (cat_filament.color('f410m', 'f466n') < 0)\n",
    "cat_mask_filament = JWSTCatalog(cat_filament.apply_mask(mask))"
   ]
  },
  {
   "cell_type": "raw",
   "metadata": {
    "vscode": {
     "languageId": "raw"
    }
   },
   "source": [
    "co_column_map = co_map.make_co_column_map(reg=reg_f)"
   ]
  },
  {
   "cell_type": "code",
   "execution_count": null,
   "metadata": {},
   "outputs": [],
   "source": [
    "co_col = co_col.data.copy()\n",
    "reg_f_pix = reg_f.to_pixel(ww_co)\n",
    "mask = reg_f_pix.to_mask()\n",
    "co_column_map = mask.multiply(co_column_map)\n",
    "\n",
    "co_abundance = 10**(-4)\n",
    "pixel_area_physical = (ww_co.proj_plane_pixel_scales()[0] * 5*u.kpc).to(u.cm, u.dimensionless_angles())**2\n",
    "mpp = 2.8*u.Da\n",
    "# grid_interp = N(CO) map after interpolation\n",
    "mass_co_ice = (np.nansum(co_column_map) * u.cm**(-2) * pixel_area_physical * mpp / co_abundance).to(u.Msun)\n",
    "mass_co_ice"
   ]
  },
  {
   "cell_type": "raw",
   "metadata": {
    "vscode": {
     "languageId": "raw"
    }
   },
   "source": [
    "fig = plt.figure(figsize=(8, 6))\n",
    "co_map.plot_Av_COice(cat=cat_use, reg=reg_f, color_cut=2, extras=True)\n",
    "co_map.plot_Av_COice(cat=cat_mask, reg=reg_f, color_cut=2, label='Filament Only')"
   ]
  },
  {
   "cell_type": "raw",
   "metadata": {
    "vscode": {
     "languageId": "raw"
    }
   },
   "source": [
    "ax = plt.subplot()\n",
    "cat_use.plot_CCD('f182m', 'f212n', 'f410m', 'f466n', s=1, color='r', ax=ax, label='All Sources')\n",
    "cat_mask_filament.plot_CCD('f182m', 'f212n', 'f410m', 'f466n', s=1, color='b', ax=ax, label='Filament Box')\n",
    "cat_mask.plot_CCD('f182m', 'f212n', 'f410m', 'f466n', s=1, color='k', ax=ax, label='Filament Only')\n",
    "ax.set_xlim(0, 3)\n",
    "ax.set_ylim(-2.5, 2)\n",
    "plt.legend()"
   ]
  },
  {
   "cell_type": "code",
   "execution_count": 21,
   "metadata": {},
   "outputs": [
    {
     "data": {
      "text/plain": [
       "<matplotlib.colorbar.Colorbar at 0x150b6df73fb0>"
      ]
     },
     "execution_count": 21,
     "metadata": {},
     "output_type": "execute_result"
    },
    {
     "data": {
      "image/png": "[encoded data removed]",
      "text/plain": [
       "<Figure size 640x480 with 2 Axes>"
      ]
     },
     "metadata": {},
     "output_type": "display_data"
    }
   ],
   "source": [
    "ax = plt.subplot(projection=ww)\n",
    "co_column_map[co_column_map<1] = np.nan\n",
    "im = ax.imshow(co_column_map, origin='lower', norm=simple_norm(co_column_map, stretch='log', max_percent=99.9))\n",
    "plt.colorbar(im, ax=ax, label='Column Density (cm$^{-2}$)')"
   ]
  },
  {
   "cell_type": "raw",
   "metadata": {
    "vscode": {
     "languageId": "raw"
    }
   },
   "source": [
    "co_abundance = 10**(-4)\n",
    "pixel_area_physical = (ww.proj_plane_pixel_scales()[0] * 5*u.kpc).to(u.cm, u.dimensionless_angles())**2\n",
    "mpp = 2.8*u.Da\n",
    "# grid_interp = N(CO) map after interpolation\n",
    "mass_co_ice = co_map.get_mass_estimate(co_column_map, ww)\n",
    "mass_co_ice"
   ]
  },
  {
   "cell_type": "code",
   "execution_count": 23,
   "metadata": {},
   "outputs": [],
   "source": [
    "mass_co_ice_err = 0*u.Msun"
   ]
  },
  {
   "cell_type": "raw",
   "metadata": {
    "vscode": {
     "languageId": "raw"
    }
   },
   "source": [
    "ext_laws = [RL85_MWGC(), RRP89_MWGC(), I05_MWAvg(), CT06_MWLoc(), CT06_MWGC(), F11_MWGC(), G21_MWAvg(), D22_MWAvg()]\n",
    "ice_masses = []\n",
    "for i, ext in enumerate(ext_laws):\n",
    "    co_coll = co_map.make_co_column_map(ext=ext, reg=reg_f)\n",
    "    ice_masses.append(co_map.get_mass_estimate(co_coll, ww).value)\n",
    "\n",
    "print('Max:', np.max(ice_masses), 'Min:', np.min(ice_masses))"
   ]
  },
  {
   "cell_type": "raw",
   "metadata": {
    "vscode": {
     "languageId": "raw"
    }
   },
   "source": [
    "ice_masses"
   ]
  },
  {
   "cell_type": "code",
   "execution_count": 28,
   "metadata": {},
   "outputs": [
    {
     "data": {
      "text/latex": [
       "$1.4273301 \\times 10^{22} \\; \\mathrm{\\frac{1}{cm^{2}}}$"
      ],
      "text/plain": [
       "<Quantity 1.42733011e+22 1 / cm2>"
      ]
     },
     "execution_count": 28,
     "metadata": {},
     "output_type": "execute_result"
    }
   ],
   "source": [
    "coldens_co_ice = np.nanmean(co_column_map) * u.cm**(-2) / co_abundance\n",
    "coldens_co_ice"
   ]
  },
  {
   "cell_type": "code",
   "execution_count": 29,
   "metadata": {},
   "outputs": [
    {
     "data": {
      "text/latex": [
       "$6.6162293 \\times 10^{22} \\; \\mathrm{\\frac{1}{cm^{2}}}$"
      ],
      "text/plain": [
       "<Quantity 6.61622929e+22 1 / cm2>"
      ]
     },
     "execution_count": 29,
     "metadata": {},
     "output_type": "execute_result"
    }
   ],
   "source": [
    "coldens_co_ice_err = np.nanstd(co_column_map) * u.cm**(-2) / co_abundance\n",
    "coldens_co_ice_err"
   ]
  },
  {
   "cell_type": "markdown",
   "metadata": {},
   "source": [
    "## Mass Table"
   ]
  },
  {
   "cell_type": "code",
   "execution_count": 143,
   "metadata": {},
   "outputs": [],
   "source": [
    "methods = ['A$_V times 2e21$', '$^{12}CO$ X-factor', '$^{13}$CO LTE', 'C$^{18}$O LTE', 'PPMAP', 'CO Ice']\n",
    "masses = [mass_extinction, mass_Xfactor, mass_13CO, mass_C18O, mass_ppmap, mass_co_ice]\n",
    "masses_err = [mass_extinction_err, mass_Xfactor_err, mass_13CO_err, mass_C18O_err, mass_ppmap_err, mass_co_ice_err]\n",
    "coldens = [coldens_extinction, coldens_Xfactor, coldens_13CO, coldens_C18O, coldens_ppmap, coldens_co_ice]\n",
    "coldens_err = [coldens_extinction_err, coldens_Xfactor_err, coldens_13CO_err, coldens_C18O_err, coldens_ppmap_err, coldens_co_ice_err]\n",
    "\n",
    "column_names = ['Method', 'Mass', 'Mass Error', 'Column Density', 'Column Density Error']"
   ]
  },
  {
   "cell_type": "code",
   "execution_count": 144,
   "metadata": {},
   "outputs": [
    {
     "name": "stdout",
     "output_type": "stream",
     "text": [
      "A$_V times 2e21$ 13201.878626620819 solMass 0.0 solMass 9.46995503620781e+44 1 / cm2 3.2310361198444932e+44 1 / cm2\n",
      "$^{12}CO$ X-factor 935.2976153438766 solMass 159.44835600131296 solMass 8.255692176818847e+43 1 / cm2 1.4074199737617071e+43 1 / cm2\n",
      "$^{13}$CO LTE 980.9014971661892 solMass 109.25192777970598 solMass 8.658229313408333e+43 1 / cm2 9.643458047330889e+42 1 / cm2\n",
      "C$^{18}$O LTE 1752.2902891307085 solMass 378.5256539946964 solMass 1.5467130176458273e+44 1 / cm2 3.341173321441749e+43 1 / cm2\n",
      "PPMAP 5413.966365655633 solMass 98.22784687242361 solMass 2.08165245609007e+44 1 / cm2 3.776828758958457e+42 1 / cm2\n",
      "CO Ice 13959.220713232155 solMass 0.0 solMass 9.173762898503717e+44 1 / cm2 1.641456422178309e+45 1 / cm2\n"
     ]
    }
   ],
   "source": [
    "for i in range(len(methods)):\n",
    "    print(methods[i], masses[i], masses_err[i], coldens[i]*10**22, coldens_err[i]*10**22)\n",
    "    masses[i] = int(masses[i].value)*u.M_sun\n",
    "    masses_err[i] = int(masses_err[i].value)*u.M_sun\n",
    "    coldens[i] = np.round(coldens[i].value/10**22*u.cm**-2, 2)\n",
    "    coldens_err[i] = np.round(coldens_err[i].value/10**22*u.cm**-2, 2)"
   ]
  },
  {
   "cell_type": "code",
   "execution_count": 146,
   "metadata": {},
   "outputs": [
    {
     "data": {
      "text/html": [
       "<div><i>Table length=6</i>\n",
       "<table id=\"table23223303104512\" class=\"table-striped table-bordered table-condensed\">\n",
       "<thead><tr><th>Method</th><th>Mass</th><th>Mass Error</th><th>Column Density</th><th>Column Density Error</th></tr></thead>\n",
       "<thead><tr><th></th><th>solMass</th><th>solMass</th><th>1 / cm2</th><th>1 / cm2</th></tr></thead>\n",
       "<thead><tr><th>str18</th><th>float64</th><th>float64</th><th>float64</th><th>float64</th></tr></thead>\n",
       "<tr><td>A$_V times 2e21$</td><td>13201.0</td><td>0.0</td><td>9.47</td><td>3.23</td></tr>\n",
       "<tr><td>$^{12}CO$ X-factor</td><td>935.0</td><td>159.0</td><td>0.83</td><td>0.14</td></tr>\n",
       "<tr><td>$^{13}$CO LTE</td><td>980.0</td><td>109.0</td><td>0.87</td><td>0.1</td></tr>\n",
       "<tr><td>C$^{18}$O LTE</td><td>1752.0</td><td>378.0</td><td>1.55</td><td>0.33</td></tr>\n",
       "<tr><td>PPMAP</td><td>5413.0</td><td>98.0</td><td>2.08</td><td>0.04</td></tr>\n",
       "<tr><td>CO Ice</td><td>13959.0</td><td>0.0</td><td>9.17</td><td>16.41</td></tr>\n",
       "</table></div>"
      ],
      "text/plain": [
       "<Table length=6>\n",
       "      Method         Mass  Mass Error Column Density Column Density Error\n",
       "                   solMass  solMass      1 / cm2           1 / cm2       \n",
       "      str18        float64  float64      float64           float64       \n",
       "------------------ ------- ---------- -------------- --------------------\n",
       "  A$_V times 2e21$ 13201.0        0.0           9.47                 3.23\n",
       "$^{12}CO$ X-factor   935.0      159.0           0.83                 0.14\n",
       "     $^{13}$CO LTE   980.0      109.0           0.87                  0.1\n",
       "     C$^{18}$O LTE  1752.0      378.0           1.55                 0.33\n",
       "             PPMAP  5413.0       98.0           2.08                 0.04\n",
       "            CO Ice 13959.0        0.0           9.17                16.41"
      ]
     },
     "execution_count": 146,
     "metadata": {},
     "output_type": "execute_result"
    }
   ],
   "source": [
    "tbl = Table([methods, masses, masses_err, coldens, coldens_err], names=column_names)\n",
    "tbl"
   ]
  },
  {
   "cell_type": "code",
   "execution_count": 147,
   "metadata": {},
   "outputs": [],
   "source": [
    "tbl.write('masses_table_reg.tex', format='ascii.latex', overwrite=True)"
   ]
  },
  {
   "cell_type": "code",
   "execution_count": null,
   "metadata": {},
   "outputs": [],
   "source": []
  }
 ],
 "metadata": {
  "kernelspec": {
   "display_name": "python310",
   "language": "python",
   "name": "python3"
  },
  "language_info": {
   "codemirror_mode": {
    "name": "ipython",
    "version": 3
   },
   "file_extension": ".py",
   "mimetype": "text/x-python",
   "name": "python",
   "nbconvert_exporter": "python",
   "pygments_lexer": "ipython3",
   "version": "3.10.8"
  }
 },
 "nbformat": 4,
 "nbformat_minor": 2
}
