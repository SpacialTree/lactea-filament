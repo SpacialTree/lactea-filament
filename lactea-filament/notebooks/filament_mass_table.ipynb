{
 "cells": [
  {
   "cell_type": "code",
   "execution_count": 135,
   "metadata": {},
   "outputs": [],
   "source": [
    "from astropy.table import Table\n",
    "import numpy as np\n",
    "import matplotlib.pyplot as plt\n",
    "import astropy.units as u\n",
    "import astropy.constants as const\n",
    "from astropy import wcs\n",
    "from scipy.spatial import KDTree\n",
    "from astropy.io import fits\n",
    "from astropy.coordinates import SkyCoord\n",
    "import regions\n",
    "from regions import Regions\n",
    "from spectral_cube import SpectralCube\n",
    "from astroquery.jplspec import JPLSpec\n",
    "from astroquery.splatalogue import Splatalogue\n",
    "from dust_extinction.averages import RL85_MWGC, RRP89_MWGC, B92_MWAvg, I05_MWAvg, CT06_MWLoc, CT06_MWGC, GCC09_MWAvg, F11_MWGC, G21_MWAvg, D22_MWAvg\n"
   ]
  },
  {
   "cell_type": "code",
   "execution_count": 2,
   "metadata": {},
   "outputs": [
    {
     "name": "stdout",
     "output_type": "stream",
     "text": [
      "/blue/adamginsburg/savannahgramze/cloudc/lactea-filament/lactea-filament\n"
     ]
    }
   ],
   "source": [
    "cd .."
   ]
  },
  {
   "cell_type": "code",
   "execution_count": null,
   "metadata": {},
   "outputs": [],
   "source": [
    "from jwst_plots import make_cat_use\n",
    "from jwst_plots import JWSTCatalog\n",
    "import cutout_manager as cm\n",
    "import extinction as ex\n",
    "import moment_maker as mm\n",
    "import co_ice as co_map\n"
   ]
  },
  {
   "cell_type": "code",
   "execution_count": 4,
   "metadata": {},
   "outputs": [
    {
     "name": "stdout",
     "output_type": "stream",
     "text": [
      "/blue/adamginsburg/savannahgramze/cloudc/lactea-filament/lactea-filament/notebooks\n"
     ]
    }
   ],
   "source": [
    "cd notebooks"
   ]
  },
  {
   "cell_type": "code",
   "execution_count": 5,
   "metadata": {},
   "outputs": [],
   "source": [
    "pos = SkyCoord('17:46:20.6290029866', '-28:37:49.5114204513', unit=(u.hour, u.deg))\n",
    "l = 113.8*u.arcsec\n",
    "w = 3.3*u.arcmin\n",
    "reg = regions.RectangleSkyRegion(pos, width=l, height=w)"
   ]
  },
  {
   "cell_type": "markdown",
   "metadata": {},
   "source": [
    "# CO"
   ]
  },
  {
   "cell_type": "code",
   "execution_count": 6,
   "metadata": {},
   "outputs": [],
   "source": [
    "fn_12CO = '/orange/adamginsburg/cmz/nobeyama/12CO-2.BEARS.FITS'\n",
    "fn_13CO = '/orange/adamginsburg/cmz/nobeyama/13CO-2.FOREST.FITS'\n",
    "fn_C18O = '/orange/adamginsburg/cmz/nobeyama/C18O-2.FOREST.FITS'"
   ]
  },
  {
   "cell_type": "code",
   "execution_count": 7,
   "metadata": {},
   "outputs": [
    {
     "name": "stderr",
     "output_type": "stream",
     "text": [
      "WARNING: VerifyWarning: Found a SIMPLE card but its format doesn't respect the FITS Standard [astropy.io.fits.hdu.hdulist]\n",
      "WARNING: File may have been truncated: actual file length (327718040) is smaller than the expected size (327718080) [astropy.io.fits.file]\n",
      "WARNING: VerifyWarning: Found a SIMPLE card but its format doesn't respect the FITS Standard [astropy.io.fits.hdu.hdulist]\n",
      "WARNING: File may have been truncated: actual file length (327718040) is smaller than the expected size (327718080) [astropy.io.fits.file]\n",
      "WARNING: VerifyWarning: Found a SIMPLE card but its format doesn't respect the FITS Standard [astropy.io.fits.hdu.hdulist]\n",
      "WARNING: File may have been truncated: actual file length (327718040) is smaller than the expected size (327718080) [astropy.io.fits.file]\n"
     ]
    }
   ],
   "source": [
    "cube_12CO = SpectralCube.read(fn_12CO, format='fits')\n",
    "cube_13CO = SpectralCube.read(fn_13CO, format='fits')\n",
    "cube_C18O = SpectralCube.read(fn_C18O, format='fits')"
   ]
  },
  {
   "cell_type": "markdown",
   "metadata": {},
   "source": [
    "## Strong et al 1988 X-Factor"
   ]
  },
  {
   "cell_type": "code",
   "execution_count": 8,
   "metadata": {},
   "outputs": [],
   "source": [
    "subcube_12CO = cube_12CO.subcube_from_regions([reg])\n",
    "subcube_12CO = subcube_12CO.with_spectral_unit(u.km/u.s).spectral_slab(-57*u.km/u.s, -53*u.km/u.s)#(-56*u.km/u.s, -54*u.km/u.s)#\n",
    "\n",
    "subcube_12CO_mom0 = subcube_12CO.moment0()"
   ]
  },
  {
   "cell_type": "code",
   "execution_count": 9,
   "metadata": {},
   "outputs": [
    {
     "data": {
      "text/plain": [
       "<matplotlib.colorbar.Colorbar at 0x151b3bb91f10>"
      ]
     },
     "execution_count": 9,
     "metadata": {},
     "output_type": "execute_result"
    },
    {
     "data": {
      "image/png": "[encoded data removed]",
      "text/plain": [
       "<Figure size 640x480 with 2 Axes>"
      ]
     },
     "metadata": {},
     "output_type": "display_data"
    }
   ],
   "source": [
    "ax = plt.subplot(projection=subcube_12CO_mom0.wcs)\n",
    "im = ax.imshow(subcube_12CO_mom0.value, origin='lower', cmap='inferno')\n",
    "plt.colorbar(im, ax=ax, label=subcube_12CO_mom0.unit)"
   ]
  },
  {
   "cell_type": "code",
   "execution_count": 10,
   "metadata": {},
   "outputs": [
    {
     "data": {
      "text/latex": [
       "$2368.6565 \\; \\mathrm{M_{\\odot}}$"
      ],
      "text/plain": [
       "<Quantity 2368.65646623 solMass>"
      ]
     },
     "execution_count": 10,
     "metadata": {},
     "output_type": "execute_result"
    }
   ],
   "source": [
    "ww = subcube_12CO_mom0.wcs\n",
    "subcube_N = np.nansum(subcube_12CO_mom0.value) * subcube_12CO_mom0.unit * 2.3 * 10**20 * u.cm**-2 * u.K**-1 * u.km**-1 * u.s\n",
    "pixel_area_physical = (ww.proj_plane_pixel_scales()[0] * 5 * u.kpc).to(u.cm, u.dimensionless_angles())**2\n",
    "mass_Xfactor = (subcube_N * pixel_area_physical * 2.8 * u.u).to(u.Msun)\n",
    "mass_Xfactor"
   ]
  },
  {
   "cell_type": "code",
   "execution_count": 11,
   "metadata": {},
   "outputs": [
    {
     "data": {
      "text/latex": [
       "$8.0293816 \\times 10^{21} \\; \\mathrm{\\frac{1}{cm^{2}}}$"
      ],
      "text/plain": [
       "<Projection 8.02938156e+21 1 / cm2>"
      ]
     },
     "execution_count": 11,
     "metadata": {},
     "output_type": "execute_result"
    }
   ],
   "source": [
    "coldens_Xfactor = np.nanmean(subcube_12CO_mom0)* 2.3 * 10**20 * u.cm**-2 * u.K**-1 * u.km**-1 * u.s\n",
    "coldens_Xfactor"
   ]
  },
  {
   "cell_type": "code",
   "execution_count": 12,
   "metadata": {},
   "outputs": [
    {
     "data": {
      "text/latex": [
       "$1.4575539 \\times 10^{21} \\; \\mathrm{\\frac{1}{cm^{2}}}$"
      ],
      "text/plain": [
       "<Projection 1.45755394e+21 1 / cm2>"
      ]
     },
     "execution_count": 12,
     "metadata": {},
     "output_type": "execute_result"
    }
   ],
   "source": [
    "coldens_Xfactor_err = np.sqrt((np.nanstd(subcube_12CO_mom0)/np.nanmean(subcube_12CO_mom0))**2 + (0.3/2.3)**2)*coldens_Xfactor\n",
    "coldens_Xfactor_err"
   ]
  },
  {
   "cell_type": "code",
   "execution_count": 13,
   "metadata": {},
   "outputs": [
    {
     "data": {
      "text/latex": [
       "$429.9764 \\; \\mathrm{M_{\\odot}}$"
      ],
      "text/plain": [
       "<Projection 429.97639769 solMass>"
      ]
     },
     "execution_count": 13,
     "metadata": {},
     "output_type": "execute_result"
    }
   ],
   "source": [
    "mass_Xfactor_err = np.sqrt((coldens_Xfactor_err/coldens_Xfactor)**2)*mass_Xfactor\n",
    "mass_Xfactor_err"
   ]
  },
  {
   "cell_type": "markdown",
   "metadata": {},
   "source": [
    "## Isotopologue Masses"
   ]
  },
  {
   "cell_type": "code",
   "execution_count": 14,
   "metadata": {},
   "outputs": [],
   "source": [
    "# Planck Function for blackbody radiation\n",
    "def planck(T, nu):\n",
    "    return (const.h*nu/const.k_B)/(np.exp(const.h*nu/(const.k_B*T))-1)\n",
    "\n",
    "def get_S(J):\n",
    "    return J / (2*J + 1)\n",
    "\n",
    "def get_Qrot(Tex, B):\n",
    "    return (const.k_B * Tex) / (const.h * B) + 1/3 \n",
    "\n",
    "def query_JLP(mol):\n",
    "    response = JPLSpec.query_lines(min_frequency=100 * u.GHz,\n",
    "                                   max_frequency=1000 * u.GHz,\n",
    "                                   min_strength=-500,\n",
    "                                   molecule=mol,\n",
    "                                   get_query_payload=False)\n",
    "    return response\n",
    "\n",
    "def query_splat(mol):\n",
    "    return Splatalogue.query_lines(1*u.mm, 3*u.mm, chemical_name=mol, energy_type='eu_k', only_NRAO_recommended=True, energy_max=50)[0]"
   ]
  },
  {
   "cell_type": "code",
   "execution_count": 15,
   "metadata": {},
   "outputs": [],
   "source": [
    "co_abundance = 10**(-4)"
   ]
  },
  {
   "cell_type": "markdown",
   "metadata": {},
   "source": [
    "### 13CO"
   ]
  },
  {
   "cell_type": "code",
   "execution_count": 16,
   "metadata": {},
   "outputs": [],
   "source": [
    "def get_13CO_10_N(Tex, I, Ju=1):\n",
    "    mu = (1.1046*10**(-19) * u.esu * u.cm).to(u.cm*(u.cm**(3/2) * u.gram**(1/2) * u.second**(-1)))\n",
    "    B = 55101.011 * u.MHz\n",
    "    Q_rot = get_Qrot(Tex, B)\n",
    "    S = get_S(Ju)\n",
    "    Ri = 1\n",
    "    f = 1\n",
    "    jpl = query_JLP(\"29001 C-13-O\")\n",
    "    freq = jpl['FREQ'].to(u.GHz)[Ju-1]\n",
    "    splat = query_splat(' 13CO ')\n",
    "    Eu = splat['upper_state_energy_K'] * u.K\n",
    "    gu = jpl['GUP'][Ju-1]\n",
    "\n",
    "    N = (3 * const.h * Q_rot)/(8 * np.pi**3 * S * mu**2 * Ri * gu) \n",
    "    N *= np.exp(Eu/(Tex))/(np.exp(const.h*freq/(const.k_B*Tex))-1) \n",
    "    N *= (f * (planck(Tex, freq)-planck(2.73*u.K, freq)))**(-1)\n",
    "    N = N*I\n",
    "\n",
    "    return N.to(u.cm**(-2))"
   ]
  },
  {
   "cell_type": "code",
   "execution_count": 17,
   "metadata": {},
   "outputs": [],
   "source": [
    "subcube_13CO = cube_13CO.subcube_from_regions([reg])\n",
    "subcube_13CO = subcube_13CO.with_spectral_unit(u.km/u.s).spectral_slab(-57*u.km/u.s, -53*u.km/u.s)#(-56*u.km/u.s, -54*u.km/u.s)#\n",
    "\n",
    "subcube_13CO_mom0 = subcube_13CO.moment0()"
   ]
  },
  {
   "cell_type": "code",
   "execution_count": 18,
   "metadata": {},
   "outputs": [],
   "source": [
    "column_density_13CO = get_13CO_10_N(20*u.K, subcube_13CO_mom0)"
   ]
  },
  {
   "cell_type": "code",
   "execution_count": null,
   "metadata": {},
   "outputs": [
    {
     "data": {
      "text/latex": [
       "$2323.2842 \\; \\mathrm{M_{\\odot}}$"
      ],
      "text/plain": [
       "<Quantity 2323.28420177 solMass>"
      ]
     },
     "execution_count": 19,
     "metadata": {},
     "output_type": "execute_result"
    }
   ],
   "source": [
    "ratio_12C_13C = 53 # from Wilson & Rood 1994\n",
    "ww = wcs.WCS(subcube_13CO_mom0.header)\n",
    "N_13CO = np.nansum(column_density_13CO.value) * u.cm**(-2)\n",
    "pixel_physical_area = (ww.proj_plane_pixel_scales()[0] * 5 * u.kpc).to(u.cm, u.dimensionless_angles())**2\n",
    "M_13CO = N_13CO * pixel_physical_area * 2.8 * u.Da\n",
    "mass_13CO = M_13CO.to(u.M_sun) * ratio_12C_13C / co_abundance\n",
    "mass_13CO"
   ]
  },
  {
   "cell_type": "code",
   "execution_count": 139,
   "metadata": {},
   "outputs": [
    {
     "data": {
      "text/latex": [
       "$876.71102 \\; \\mathrm{M_{\\odot}}$"
      ],
      "text/plain": [
       "<Quantity 876.71101953 solMass>"
      ]
     },
     "execution_count": 139,
     "metadata": {},
     "output_type": "execute_result"
    }
   ],
   "source": [
    "ratio_12C_13C_GC = 20 # from Wilson & Rood 1994\n",
    "mass_13CO_GC = M_13CO.to(u.M_sun) * ratio_12C_13C_GC / co_abundance\n",
    "mass_13CO_GC"
   ]
  },
  {
   "cell_type": "code",
   "execution_count": 20,
   "metadata": {},
   "outputs": [
    {
     "data": {
      "text/latex": [
       "$7.8755769 \\times 10^{21} \\; \\mathrm{\\frac{1}{cm^{2}}}$"
      ],
      "text/plain": [
       "<Projection 7.87557686e+21 1 / cm2>"
      ]
     },
     "execution_count": 20,
     "metadata": {},
     "output_type": "execute_result"
    }
   ],
   "source": [
    "coldens_13CO = np.nanmean(column_density_13CO) * ratio_12C_13C / co_abundance\n",
    "coldens_13CO"
   ]
  },
  {
   "cell_type": "code",
   "execution_count": 21,
   "metadata": {},
   "outputs": [
    {
     "data": {
      "text/latex": [
       "$1.4504301 \\times 10^{21} \\; \\mathrm{\\frac{1}{cm^{2}}}$"
      ],
      "text/plain": [
       "<Projection 1.45043015e+21 1 / cm2>"
      ]
     },
     "execution_count": 21,
     "metadata": {},
     "output_type": "execute_result"
    }
   ],
   "source": [
    "coldens_13CO_err = coldens_13CO*(np.nanstd(subcube_13CO_mom0)/np.nanmean(subcube_13CO_mom0))\n",
    "coldens_13CO_err"
   ]
  },
  {
   "cell_type": "code",
   "execution_count": 22,
   "metadata": {},
   "outputs": [
    {
     "data": {
      "text/latex": [
       "$427.87487 \\; \\mathrm{M_{\\odot}}$"
      ],
      "text/plain": [
       "<Projection 427.87487265 solMass>"
      ]
     },
     "execution_count": 22,
     "metadata": {},
     "output_type": "execute_result"
    }
   ],
   "source": [
    "mass_13CO_err = mass_13CO * coldens_13CO_err / coldens_13CO\n",
    "mass_13CO_err"
   ]
  },
  {
   "cell_type": "markdown",
   "metadata": {},
   "source": [
    "### C18O"
   ]
  },
  {
   "cell_type": "code",
   "execution_count": 23,
   "metadata": {},
   "outputs": [],
   "source": [
    "def get_C18O_10_N(Tex, I, Ju=1):\n",
    "    mu = (1.1079*10**(-19) * u.esu * u.cm).to(u.cm*(u.cm**(3/2) * u.gram**(1/2) * u.second**(-1)))\n",
    "    B = 54891.420 * u.MHz\n",
    "    Q_rot = get_Qrot(Tex, B)\n",
    "    S = get_S(Ju)\n",
    "    Ri = 1\n",
    "    f = 1\n",
    "    jpl = query_JLP(\"29001 CO-18\")\n",
    "    freq = jpl['FREQ'].to(u.GHz)[Ju-1]\n",
    "    splat = query_splat(' C18O ')\n",
    "    Eu = splat['upper_state_energy_K'] * u.K\n",
    "    gu = jpl['GUP'][Ju-1]\n",
    "\n",
    "    N = (3 * const.h * Q_rot)/(8 * np.pi**3 * S * mu**2 * Ri * gu) \n",
    "    N *= np.exp(Eu/(Tex))/(np.exp(const.h*freq/(const.k_B*Tex))-1) \n",
    "    N *= (f * (planck(Tex, freq)-planck(2.73*u.K, freq)))**(-1) \n",
    "    N = N*I\n",
    "\n",
    "    return N.to(u.cm**(-2))"
   ]
  },
  {
   "cell_type": "code",
   "execution_count": 24,
   "metadata": {},
   "outputs": [],
   "source": [
    "subcube_C18O = cube_C18O.subcube_from_regions([reg])\n",
    "subcube_C18O = subcube_C18O.with_spectral_unit(u.km/u.s).spectral_slab(-57*u.km/u.s, -53*u.km/u.s)#(-56*u.km/u.s, -54*u.km/u.s)#\n",
    "\n",
    "subcube_C18O_mom0 = subcube_C18O.moment0()"
   ]
  },
  {
   "cell_type": "code",
   "execution_count": 25,
   "metadata": {},
   "outputs": [],
   "source": [
    "column_density_C18O = get_C18O_10_N(20*u.K, subcube_C18O_mom0)"
   ]
  },
  {
   "cell_type": "code",
   "execution_count": 26,
   "metadata": {},
   "outputs": [
    {
     "data": {
      "text/latex": [
       "$3492.9194 \\; \\mathrm{M_{\\odot}}$"
      ],
      "text/plain": [
       "<Quantity 3492.91941135 solMass>"
      ]
     },
     "execution_count": 26,
     "metadata": {},
     "output_type": "execute_result"
    }
   ],
   "source": [
    "ratio_16O_18O = 327 # from Wilson & Rood 1994\n",
    "ww = wcs.WCS(subcube_C18O_mom0.header)\n",
    "N_C18O = np.nansum(column_density_C18O.value) * u.cm**(-2)\n",
    "pixel_physical_area = (ww.proj_plane_pixel_scales()[0] * 5 * u.kpc).to(u.cm, u.dimensionless_angles())**2\n",
    "M_C18O = N_C18O * pixel_physical_area * 2.8 * u.Da\n",
    "mass_C18O = M_C18O.to(u.M_sun) * ratio_16O_18O / co_abundance\n",
    "mass_C18O"
   ]
  },
  {
   "cell_type": "code",
   "execution_count": 138,
   "metadata": {},
   "outputs": [
    {
     "data": {
      "text/latex": [
       "$2670.4277 \\; \\mathrm{M_{\\odot}}$"
      ],
      "text/plain": [
       "<Quantity 2670.42768452 solMass>"
      ]
     },
     "execution_count": 138,
     "metadata": {},
     "output_type": "execute_result"
    }
   ],
   "source": [
    "ratio_16O_18O_GC = 250 # from Wilson & Rood 1994\n",
    "mass_C18O_GC = M_C18O.to(u.M_sun) * ratio_16O_18O_GC / co_abundance\n",
    "mass_C18O_GC"
   ]
  },
  {
   "cell_type": "code",
   "execution_count": 27,
   "metadata": {},
   "outputs": [
    {
     "data": {
      "text/latex": [
       "$1.1840461 \\times 10^{22} \\; \\mathrm{\\frac{1}{cm^{2}}}$"
      ],
      "text/plain": [
       "<Projection 1.18404607e+22 1 / cm2>"
      ]
     },
     "execution_count": 27,
     "metadata": {},
     "output_type": "execute_result"
    }
   ],
   "source": [
    "coldens_C18O = np.nanmean(column_density_C18O) * ratio_16O_18O / co_abundance\n",
    "coldens_C18O"
   ]
  },
  {
   "cell_type": "code",
   "execution_count": 28,
   "metadata": {},
   "outputs": [
    {
     "data": {
      "text/latex": [
       "$4.8093875 \\times 10^{21} \\; \\mathrm{\\frac{1}{cm^{2}}}$"
      ],
      "text/plain": [
       "<Projection 4.80938755e+21 1 / cm2>"
      ]
     },
     "execution_count": 28,
     "metadata": {},
     "output_type": "execute_result"
    }
   ],
   "source": [
    "coldens_C18O_err = coldens_C18O*(np.nanstd(subcube_C18O_mom0)/np.nanmean(subcube_C18O_mom0))\n",
    "coldens_C18O_err"
   ]
  },
  {
   "cell_type": "code",
   "execution_count": 29,
   "metadata": {},
   "outputs": [
    {
     "data": {
      "text/latex": [
       "$1418.7626 \\; \\mathrm{M_{\\odot}}$"
      ],
      "text/plain": [
       "<Projection 1418.76262681 solMass>"
      ]
     },
     "execution_count": 29,
     "metadata": {},
     "output_type": "execute_result"
    }
   ],
   "source": [
    "mass_C18O_err = mass_C18O * coldens_C18O_err / coldens_C18O\n",
    "mass_C18O_err"
   ]
  },
  {
   "cell_type": "markdown",
   "metadata": {},
   "source": [
    "# Extinction Mass"
   ]
  },
  {
   "cell_type": "code",
   "execution_count": 119,
   "metadata": {},
   "outputs": [
    {
     "data": {
      "text/latex": [
       "$20326.09 \\; \\mathrm{M_{\\odot}}$"
      ],
      "text/plain": [
       "<Quantity 20326.08999282 solMass>"
      ]
     },
     "execution_count": 119,
     "metadata": {},
     "output_type": "execute_result"
    }
   ],
   "source": [
    "ext_map = ex.make_extinction_map(Av_fill=85)\n",
    "ww = ex.get_wcs()\n",
    "mass_extinction = ex.get_mass_estimate(ext_map, ww)\n",
    "mass_extinction"
   ]
  },
  {
   "cell_type": "code",
   "execution_count": null,
   "metadata": {},
   "outputs": [
    {
     "data": {
      "text/latex": [
       "$1745.2937 \\; \\mathrm{M_{\\odot}}$"
      ],
      "text/plain": [
       "<Quantity 1745.29371903 solMass>"
      ]
     },
     "execution_count": 137,
     "metadata": {},
     "output_type": "execute_result"
    }
   ],
   "source": [
    "ext_laws = [RL85_MWGC(), RRP89_MWGC(), I05_MWAvg(), CT06_MWLoc(), CT06_MWGC(), F11_MWGC(), G21_MWAvg(), D22_MWAvg()]\n",
    "av_fills = [70, 80, 80, 85, 85, 60, 75, 76]\n",
    "masses = []\n",
    "for i, ext in enumerate(ext_laws):\n",
    "    ext_map = ex.make_extinction_map(ext=ext, Av_fill=av_fills[i])\n",
    "    masses.append(ex.get_mass_estimate(ext_map, ww).value)\n",
    "\n",
    "mass_extinction_err = np.std(masses)*u.M_sun\n",
    "mass_extinction_err = np.nan * u.M_sun"
   ]
  },
  {
   "cell_type": "code",
   "execution_count": null,
   "metadata": {},
   "outputs": [
    {
     "data": {
      "text/latex": [
       "$6.895252 \\times 10^{22} \\; \\mathrm{\\frac{1}{cm^{2}}}$"
      ],
      "text/plain": [
       "<Quantity 6.89525195e+22 1 / cm2>"
      ]
     },
     "execution_count": 32,
     "metadata": {},
     "output_type": "execute_result"
    }
   ],
   "source": [
    "ext_N = ext_map*2.21*10**21*u.cm**-2\n",
    "coldens_extinction = np.nanmean(ext_N)\n",
    "coldens_extinction"
   ]
  },
  {
   "cell_type": "code",
   "execution_count": 121,
   "metadata": {},
   "outputs": [
    {
     "data": {
      "text/latex": [
       "$3.1675666 \\times 10^{22} \\; \\mathrm{\\frac{1}{cm^{2}}}$"
      ],
      "text/plain": [
       "<Quantity 3.16756663e+22 1 / cm2>"
      ]
     },
     "execution_count": 121,
     "metadata": {},
     "output_type": "execute_result"
    }
   ],
   "source": [
    "# 2.21 +/- 0.09 x 10**21\n",
    "ext_N_CT06 = ext_map_CT06*2.21*10**21*u.cm**-2\n",
    "ext_N_F11 = ext_map_F11*2.21*10**21*u.cm**-2\n",
    "\n",
    "coldens_extinction_CT06 = np.nanmean(ext_N_CT06)\n",
    "coldens_extinction_F11 = np.nanmean(ext_N_F11)\n",
    "\n",
    "coldens_extinction_err = np.sqrt((np.nanstd(ext_N)/np.nanmean(ext_N))**2 + (0.09/2.21)**2)*coldens_extinction\n",
    "coldens_extinction_err"
   ]
  },
  {
   "cell_type": "markdown",
   "metadata": {},
   "source": [
    "# PPMAP"
   ]
  },
  {
   "cell_type": "code",
   "execution_count": 34,
   "metadata": {},
   "outputs": [],
   "source": [
    "ppmap = '/orange/adamginsburg/galactic_plane_surveys/higal/PPMAP_Results/l000_results/l000_cdens.fits'"
   ]
  },
  {
   "cell_type": "code",
   "execution_count": 35,
   "metadata": {},
   "outputs": [
    {
     "data": {
      "text/latex": [
       "$\\mathrm{1 \\times 10^{20}\\,\\frac{1}{cm^{2}}}$"
      ],
      "text/plain": [
       "Unit(\"1e+20 / cm2\")"
      ]
     },
     "execution_count": 35,
     "metadata": {},
     "output_type": "execute_result"
    }
   ],
   "source": [
    "r0 = reg#[0]\n",
    "hdul = fits.open(ppmap)\n",
    "ww = wcs.WCS(hdul[0].header)\n",
    "preg = r0.to_pixel(ww)\n",
    "mask = preg.to_mask()\n",
    "cutout = mask.cutout(hdul[0].data)\n",
    "#pixelarea = 1*u.pixel\n",
    "cden = (mask.multiply(hdul[0].data) * (10**20) * u.cm**(-2))\n",
    "        #* u.Unit(hdul[0].header['BUNIT']))\n",
    "u.Unit(hdul[0].header['BUNIT'])"
   ]
  },
  {
   "cell_type": "code",
   "execution_count": 36,
   "metadata": {},
   "outputs": [
    {
     "data": {
      "text/latex": [
       "$2.4469175 \\times 10^{22} \\; \\mathrm{\\frac{1}{cm^{2}}}$"
      ],
      "text/plain": [
       "<Quantity 2.44691751e+22 1 / cm2>"
      ]
     },
     "execution_count": 36,
     "metadata": {},
     "output_type": "execute_result"
    }
   ],
   "source": [
    "coldens_ppmap = np.nanmean(cden)\n",
    "coldens_ppmap"
   ]
  },
  {
   "cell_type": "code",
   "execution_count": 37,
   "metadata": {},
   "outputs": [
    {
     "data": {
      "text/latex": [
       "$15287.311 \\; \\mathrm{M_{\\odot}}$"
      ],
      "text/plain": [
       "<Quantity 15287.31118604 solMass>"
      ]
     },
     "execution_count": 37,
     "metadata": {},
     "output_type": "execute_result"
    }
   ],
   "source": [
    "pix_area_2 = ww.celestial.proj_plane_pixel_area()\n",
    "pix_area_cm_2 = (pix_area_2 * (5*u.kpc)**2).to(u.parsec**2, equivalencies=u.dimensionless_angles()).to(u.cm**2)\n",
    "mass_ppmap = (pix_area_cm_2 * cden * u.Da*2.8).to(u.M_sun).sum()\n",
    "mass_ppmap"
   ]
  },
  {
   "cell_type": "code",
   "execution_count": 38,
   "metadata": {},
   "outputs": [
    {
     "data": {
      "text/latex": [
       "$4.1404419 \\times 10^{20} \\; \\mathrm{\\frac{1}{cm^{2}}}$"
      ],
      "text/plain": [
       "<Quantity 4.14044193e+20 1 / cm2>"
      ]
     },
     "execution_count": 38,
     "metadata": {},
     "output_type": "execute_result"
    }
   ],
   "source": [
    "coldens_ppmap_err = mask.multiply(fits.open('/orange/adamginsburg/galactic_plane_surveys/higal/PPMAP_Results/l000_results/l000_sigdiffcdens.fits')[0].data[5]).mean()* (10**20) * u.cm**(-2)#*u.Unit(hdul[0].header['BUNIT'])\n",
    "coldens_ppmap_err "
   ]
  },
  {
   "cell_type": "code",
   "execution_count": 39,
   "metadata": {},
   "outputs": [
    {
     "data": {
      "text/latex": [
       "$258.67739 \\; \\mathrm{M_{\\odot}}$"
      ],
      "text/plain": [
       "<Quantity 258.67739222 solMass>"
      ]
     },
     "execution_count": 39,
     "metadata": {},
     "output_type": "execute_result"
    }
   ],
   "source": [
    "mass_ppmap_err = mass_ppmap * coldens_ppmap_err / coldens_ppmap\n",
    "mass_ppmap_err"
   ]
  },
  {
   "cell_type": "markdown",
   "metadata": {},
   "source": [
    "# CO Ice"
   ]
  },
  {
   "cell_type": "code",
   "execution_count": null,
   "metadata": {},
   "outputs": [],
   "source": [
    "co_column_map = co_map.make_co_column_map()"
   ]
  },
  {
   "cell_type": "code",
   "execution_count": null,
   "metadata": {},
   "outputs": [],
   "source": [
    "plt.imshow(co_column_map, origin='lower')"
   ]
  },
  {
   "cell_type": "code",
   "execution_count": null,
   "metadata": {},
   "outputs": [],
   "source": [
    "co_abundance = 10**(-4)\n",
    "pixel_area_physical = (ww.proj_plane_pixel_scales()[0] * 5*u.kpc).to(u.cm, u.dimensionless_angles())**2\n",
    "mpp = 2.8*u.Da\n",
    "# grid_interp = N(CO) map after interpolation\n",
    "mass_co_ice = (np.nansum(co_column_map) * u.cm**(-2) * pixel_area_physical * mpp / co_abundance).to(u.Msun)\n",
    "mass_co_ice"
   ]
  },
  {
   "cell_type": "code",
   "execution_count": null,
   "metadata": {},
   "outputs": [],
   "source": [
    "mass_co_ice_err = np.nan*u.Msun"
   ]
  },
  {
   "cell_type": "code",
   "execution_count": null,
   "metadata": {},
   "outputs": [],
   "source": [
    "coldens_co_ice = np.nanmean(co_column_map) * u.cm**(-2) / co_abundance"
   ]
  },
  {
   "cell_type": "code",
   "execution_count": null,
   "metadata": {},
   "outputs": [],
   "source": [
    "coldens_co_ice_err = np.nanstd(co_column_map) * u.cm**(-2) / co_abundance"
   ]
  },
  {
   "cell_type": "markdown",
   "metadata": {},
   "source": [
    "# Mass Table"
   ]
  },
  {
   "cell_type": "code",
   "execution_count": null,
   "metadata": {},
   "outputs": [],
   "source": [
    "methods = ['A$_V times 2e21$', '$^{12}CO$ X-factor', '$^{13}$CO LTE', 'C$^{18}$O LTE', 'PPMAP', 'CO Ice']\n",
    "masses = [mass_extinction, mass_Xfactor, mass_13CO, mass_C18O, mass_ppmap, mass_co_ice]\n",
    "masses_err = [mass_extinction_err, mass_Xfactor_err, mass_13CO_err, mass_C18O_err, mass_ppmap_err]\n",
    "coldens = [coldens_extinction, coldens_Xfactor, coldens_13CO, coldens_C18O, coldens_ppmap]\n",
    "coldens_err = [coldens_extinction_err, coldens_Xfactor_err, coldens_13CO_err, coldens_C18O_err, coldens_ppmap_err]\n",
    "\n",
    "column_names = ['Method', 'Mass', 'Mass Error', 'Column Density', 'Column Density Error']"
   ]
  },
  {
   "cell_type": "code",
   "execution_count": 131,
   "metadata": {},
   "outputs": [
    {
     "name": "stdout",
     "output_type": "stream",
     "text": [
      "A$_V times 2e21$ 20326.089992822755 solMass 2788.9034782794915 solMass 6.895251951673146e+44 1 / cm2 3.1675666328029433e+44 1 / cm2\n",
      "$^{12}CO$ X-factor 2368.6564662298774 solMass 429.9763976879777 solMass 8.029381561279297e+43 1 / cm2 1.4575539376870044e+43 1 / cm2\n",
      "$^{13}$CO LTE 2323.28420176602 solMass 427.87487264843867 solMass 7.875576855020133e+43 1 / cm2 1.4504301459602926e+43 1 / cm2\n",
      "C$^{18}$O LTE 3492.919411351405 solMass 1418.7626268094068 solMass 1.184046069421002e+44 1 / cm2 4.809387546290829e+43 1 / cm2\n",
      "PPMAP 15287.311186037461 solMass 258.6773922152559 solMass 2.446917514944868e+44 1 / cm2 4.140441926176552e+42 1 / cm2\n"
     ]
    }
   ],
   "source": [
    "for i in range(len(methods)):\n",
    "    print(methods[i], masses[i], masses_err[i], coldens[i]*10**22, coldens_err[i]*10**22)\n",
    "    masses[i] = int(masses[i].value)*u.M_sun\n",
    "    masses_err[i] = int(masses_err[i].value)*u.M_sun\n",
    "    column_density[i] = np.round(coldens[i].value/10**22*u.cm**-2, 2)\n",
    "    column_density_err[i] = np.round(coldens_err[i].value/10**22*u.cm**-2, 2)"
   ]
  },
  {
   "cell_type": "code",
   "execution_count": 132,
   "metadata": {},
   "outputs": [
    {
     "data": {
      "text/html": [
       "<div><i>Table length=5</i>\n",
       "<table id=\"table23206697996976\" class=\"table-striped table-bordered table-condensed\">\n",
       "<thead><tr><th>Method</th><th>Mass</th><th>Mass Error</th><th>Column Density</th><th>Column Density Error</th></tr></thead>\n",
       "<thead><tr><th></th><th>solMass</th><th>solMass</th><th>1 / cm2</th><th>1 / cm2</th></tr></thead>\n",
       "<thead><tr><th>str18</th><th>float64</th><th>float64</th><th>float64</th><th>float64</th></tr></thead>\n",
       "<tr><td>A$_V times 2e21$</td><td>20326.0</td><td>2788.0</td><td>6.9</td><td>3.17</td></tr>\n",
       "<tr><td>$^{12}CO$ X-factor</td><td>2368.0</td><td>429.0</td><td>0.8</td><td>0.15</td></tr>\n",
       "<tr><td>$^{13}$CO LTE</td><td>2323.0</td><td>427.0</td><td>0.79</td><td>0.15</td></tr>\n",
       "<tr><td>C$^{18}$O LTE</td><td>3492.0</td><td>1418.0</td><td>1.18</td><td>0.48</td></tr>\n",
       "<tr><td>PPMAP</td><td>15287.0</td><td>258.0</td><td>2.45</td><td>0.04</td></tr>\n",
       "</table></div>"
      ],
      "text/plain": [
       "<Table length=5>\n",
       "      Method         Mass  Mass Error Column Density Column Density Error\n",
       "                   solMass  solMass      1 / cm2           1 / cm2       \n",
       "      str18        float64  float64      float64           float64       \n",
       "------------------ ------- ---------- -------------- --------------------\n",
       "  A$_V times 2e21$ 20326.0     2788.0            6.9                 3.17\n",
       "$^{12}CO$ X-factor  2368.0      429.0            0.8                 0.15\n",
       "     $^{13}$CO LTE  2323.0      427.0           0.79                 0.15\n",
       "     C$^{18}$O LTE  3492.0     1418.0           1.18                 0.48\n",
       "             PPMAP 15287.0      258.0           2.45                 0.04"
      ]
     },
     "execution_count": 132,
     "metadata": {},
     "output_type": "execute_result"
    }
   ],
   "source": [
    "tbl = Table([methods, masses, masses_err, column_density, column_density_err], names=column_names)\n",
    "tbl"
   ]
  },
  {
   "cell_type": "code",
   "execution_count": 133,
   "metadata": {},
   "outputs": [],
   "source": [
    "tbl.write('masses_table.tex', format='ascii.latex', overwrite=True)"
   ]
  },
  {
   "cell_type": "code",
   "execution_count": null,
   "metadata": {},
   "outputs": [],
   "source": []
  }
 ],
 "metadata": {
  "kernelspec": {
   "display_name": "py310",
   "language": "python",
   "name": "py310"
  },
  "language_info": {
   "codemirror_mode": {
    "name": "ipython",
    "version": 3
   },
   "file_extension": ".py",
   "mimetype": "text/x-python",
   "name": "python",
   "nbconvert_exporter": "python",
   "pygments_lexer": "ipython3",
   "version": "3.12.4"
  }
 },
 "nbformat": 4,
 "nbformat_minor": 2
}
