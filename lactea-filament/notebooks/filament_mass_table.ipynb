{
 "cells": [
  {
   "cell_type": "code",
   "execution_count": 1,
   "metadata": {},
   "outputs": [],
   "source": [
    "from astropy.table import Table\n",
    "import numpy as np\n",
    "import matplotlib.pyplot as plt\n",
    "import astropy.units as u\n",
    "import astropy.constants as const\n",
    "from scipy.spatial import KDTree\n",
    "from astropy.io import fits\n",
    "from astropy.coordinates import SkyCoord\n",
    "import regions\n",
    "from regions import Regions"
   ]
  },
  {
   "cell_type": "code",
   "execution_count": 2,
   "metadata": {},
   "outputs": [
    {
     "name": "stdout",
     "output_type": "stream",
     "text": [
      "/blue/adamginsburg/savannahgramze/cloudc/lactea-filament/lactea-filament\n"
     ]
    }
   ],
   "source": [
    "cd .."
   ]
  },
  {
   "cell_type": "code",
   "execution_count": 3,
   "metadata": {},
   "outputs": [],
   "source": [
    "from jwst_plots import make_cat_use\n",
    "from jwst_plots import JWSTCatalog\n",
    "import cutout_manager as cm\n",
    "import extinction as ex\n",
    "import moment_maker as mm"
   ]
  },
  {
   "cell_type": "code",
   "execution_count": 4,
   "metadata": {},
   "outputs": [
    {
     "name": "stdout",
     "output_type": "stream",
     "text": [
      "/blue/adamginsburg/savannahgramze/cloudc/lactea-filament/lactea-filament/notebooks\n"
     ]
    }
   ],
   "source": [
    "cd notebooks"
   ]
  },
  {
   "cell_type": "code",
   "execution_count": 5,
   "metadata": {},
   "outputs": [],
   "source": [
    "pos = SkyCoord('17:46:20.6290029866', '-28:37:49.5114204513', unit=(u.hour, u.deg))\n",
    "l = 113.8*u.arcsec\n",
    "w = 3.3*u.arcmin\n",
    "reg = regions.RectangleSkyRegion(pos, width=l, height=w)"
   ]
  },
  {
   "cell_type": "markdown",
   "metadata": {},
   "source": [
    "# CO"
   ]
  },
  {
   "cell_type": "code",
   "execution_count": null,
   "metadata": {},
   "outputs": [],
   "source": [
    "fn_12CO = '/orange/adamginsburg/cmz/nobeyama/12CO-2.BEARS.FITS'\n",
    "fn_13CO = '/orange/adamginsburg/cmz/nobeyama/13CO-2.FOREST.FITS'\n",
    "fn_C18O = '/orange/adamginsburg/cmz/nobeyama/C18O-2.FOREST.FITS'"
   ]
  },
  {
   "cell_type": "code",
   "execution_count": null,
   "metadata": {},
   "outputs": [],
   "source": [
    "cube_12CO = SpectralCube.read(fn_12CO, format='fits')\n",
    "cube_13CO = SpectralCube.read(fn_13CO, format='fits')\n",
    "cube_C18O = SpectralCube.read(fn_C18O, format='fits')"
   ]
  },
  {
   "cell_type": "markdown",
   "metadata": {},
   "source": [
    "## Strong et al 1988 X-Factor"
   ]
  },
  {
   "cell_type": "code",
   "execution_count": null,
   "metadata": {},
   "outputs": [],
   "source": [
    "subcube_12CO = cube_12CO.subcube_from_regions([reg])\n",
    "subcube_12CO = subcube_12CO.with_spectral_unit(u.km/u.s).spectral_slab(-57*u.km/u.s, -53*u.km/u.s)#(-56*u.km/u.s, -54*u.km/u.s)#\n",
    "\n",
    "subcube_12CO_mom0 = subcube_12CO.moment0()"
   ]
  },
  {
   "cell_type": "code",
   "execution_count": null,
   "metadata": {},
   "outputs": [],
   "source": [
    "ax = plt.subplot(projection=subcube_12CO_mom0.wcs)\n",
    "im = ax.imshow(subcube_12CO_mom0.value, origin='lower', cmap='inferno')\n",
    "plt.colorbar(im, ax=ax, label=subcube_12CO_mom0.unit)"
   ]
  },
  {
   "cell_type": "code",
   "execution_count": null,
   "metadata": {},
   "outputs": [],
   "source": [
    "ww = subcube_12CO_mom0.wcs\n",
    "subcube_N = np.nansum(subcube_12CO_mom0.value) * subcube_12CO_mom0.unit * 2.3 * 10**20 * u.cm**-2 * u.K**-1 * u.km**-1 * u.s\n",
    "pixel_area_physical = (ww.proj_plane_pixel_scales()[0] * 5 * u.kpc).to(u.cm, u.dimensionless_angles())**2\n",
    "mass_Xfactor = (subcube_N * pixel_area_physical * 2.8 * u.u).to(u.Msun)\n",
    "mass_Xfactor"
   ]
  },
  {
   "cell_type": "markdown",
   "metadata": {},
   "source": [
    "## Isotopologue Masses"
   ]
  },
  {
   "cell_type": "code",
   "execution_count": null,
   "metadata": {},
   "outputs": [],
   "source": [
    "def get_13CO_10_N(Tex, I, Ju=1):\n",
    "    mu = (1.1046*10**(-19) * u.esu * u.cm).to(u.cm*(u.cm**(3/2) * u.gram**(1/2) * u.second**(-1)))\n",
    "    B = 55101.011 * u.MHz\n",
    "    Q_rot = get_Qrot(Tex, B)\n",
    "    S = get_S(Ju)\n",
    "    Ri = 1\n",
    "    f = 1\n",
    "    jpl = query_JLP(\"29001 C-13-O\")\n",
    "    freq = jpl['FREQ'].to(u.GHz)[Ju-1]\n",
    "    splat = query_splat(' 13CO ')\n",
    "    Eu = splat['upper_state_energy_K'] * u.K\n",
    "    gu = jpl['GUP'][Ju-1]\n",
    "\n",
    "    N = (3 * const.h * Q_rot)/(8 * np.pi**3 * S * mu**2 * Ri * gu) \n",
    "    N *= np.exp(Eu/(Tex))/(np.exp(const.h*freq/(const.k_B*Tex))-1) \n",
    "    N *= (f * (planck(Tex, freq)-planck(2.73*u.K, freq)))**(-1)\n",
    "    N = N*I\n",
    "\n",
    "    return N.to(u.cm**(-2))"
   ]
  },
  {
   "cell_type": "code",
   "execution_count": null,
   "metadata": {},
   "outputs": [],
   "source": [
    "def get_C18O_10_N(Tex, I, Ju=1):\n",
    "    mu = (1.1079*10**(-19) * u.esu * u.cm).to(u.cm*(u.cm**(3/2) * u.gram**(1/2) * u.second**(-1)))\n",
    "    B = 54891.420 * u.MHz\n",
    "    Q_rot = get_Qrot(Tex, B)\n",
    "    S = get_S(Ju)\n",
    "    Ri = 1\n",
    "    f = 1\n",
    "    jpl = query_JLP(\"29001 CO-18\")\n",
    "    freq = jpl['FREQ'].to(u.GHz)[Ju-1]\n",
    "    splat = query_splat(' C18O ')\n",
    "    Eu = splat['upper_state_energy_K'] * u.K\n",
    "    gu = jpl['GUP'][Ju-1]\n",
    "\n",
    "    N = (3 * const.h * Q_rot)/(8 * np.pi**3 * S * mu**2 * Ri * gu) \n",
    "    N *= np.exp(Eu/(Tex))/(np.exp(const.h*freq/(const.k_B*Tex))-1) \n",
    "    N *= (f * (planck(Tex, freq)-planck(2.73*u.K, freq)))**(-1) \n",
    "    N = N*I\n",
    "\n",
    "    return N.to(u.cm**(-2))"
   ]
  },
  {
   "cell_type": "code",
   "execution_count": null,
   "metadata": {},
   "outputs": [],
   "source": [
    "subcube_13CO = cube_13CO.subcube_from_regions([reg])\n",
    "subcube_13CO = subcube_13CO.with_spectral_unit(u.km/u.s).spectral_slab(-57*u.km/u.s, -53*u.km/u.s)#(-56*u.km/u.s, -54*u.km/u.s)#\n",
    "\n",
    "subcube_C18O = cube_C18O.subcube_from_regions([reg])\n",
    "subcube_C18O = subcube_C18O.with_spectral_unit(u.km/u.s).spectral_slab(-57*u.km/u.s, -53*u.km/u.s)#(-56*u.km/u.s, -54*u.km/u.s)#\n",
    "\n",
    "subcube_13CO_mom0 = subcube_13CO.moment0()\n",
    "subcube_C18O_mom0 = subcube_C18O.moment0()"
   ]
  },
  {
   "cell_type": "code",
   "execution_count": null,
   "metadata": {},
   "outputs": [],
   "source": [
    "column_density_13CO = get_13CO_10_N(20*u.K, subcube_13CO_mom0)\n",
    "column_density_C18O = get_C18O_10_N(20*u.K, subcube_C18O_mom0)"
   ]
  },
  {
   "cell_type": "code",
   "execution_count": null,
   "metadata": {},
   "outputs": [],
   "source": [
    "co_abundance = 10**(-4)"
   ]
  },
  {
   "cell_type": "code",
   "execution_count": null,
   "metadata": {},
   "outputs": [],
   "source": [
    "ratio_12C_13C = 53 # from Wilson & Rood 1994\n",
    "ww = wcs.WCS(subcube_13CO_mom0.header)\n",
    "N_13CO = np.nansum(column_density_13CO.value) * u.cm**(-2)\n",
    "pixel_physical_area = (ww.proj_plane_pixel_scales()[0] * 5 * u.kpc).to(u.cm, u.dimensionless_angles())**2\n",
    "M_13CO = N_13CO * pixel_physical_area * 2.8 * u.Da\n",
    "mass_13CO = M_13CO.to(u.M_sun) *ratio_12C_13C / co_abundance"
   ]
  },
  {
   "cell_type": "code",
   "execution_count": null,
   "metadata": {},
   "outputs": [],
   "source": [
    "ratio_16O_18O = 327 # from Wilson & Rood 1994\n",
    "ww = wcs.WCS(subcube_C18O_mom0.header)\n",
    "N_C18O = np.nansum(column_density_C18O.value) * u.cm**(-2)\n",
    "pixel_physical_area = (ww.proj_plane_pixel_scales()[0] * 5 * u.kpc).to(u.cm, u.dimensionless_angles())**2\n",
    "M_C18O = N_C18O * pixel_physical_area * 2.8 * u.Da\n",
    "mass_C18O = M_C18O.to(u.M_sun) * ratio_16O_18O / co_abundance"
   ]
  },
  {
   "cell_type": "markdown",
   "metadata": {},
   "source": [
    "# Extinction Mass"
   ]
  },
  {
   "cell_type": "code",
   "execution_count": null,
   "metadata": {},
   "outputs": [],
   "source": [
    "ext_map = ex.make_extinction_map(ext=CT06_MWGC(), Av_fill=85)\n",
    "mass_extinction = ex.get_mass_estimate(ext_map, ww)\n",
    "mass_extinction"
   ]
  },
  {
   "cell_type": "markdown",
   "metadata": {},
   "source": [
    "# Mass Table"
   ]
  },
  {
   "cell_type": "code",
   "execution_count": null,
   "metadata": {},
   "outputs": [],
   "source": [
    "methods = ['X-factor', '$^{13}$CO LTE', 'C$^{18}$O', 'A$_V \\times 2e21']\n",
    "masses = [mass_Xfactor, mass_13CO, mass_C18O, mass_extinction]"
   ]
  },
  {
   "cell_type": "code",
   "execution_count": null,
   "metadata": {},
   "outputs": [],
   "source": []
  }
 ],
 "metadata": {
  "kernelspec": {
   "display_name": "py310",
   "language": "python",
   "name": "py310"
  },
  "language_info": {
   "codemirror_mode": {
    "name": "ipython",
    "version": 3
   },
   "file_extension": ".py",
   "mimetype": "text/x-python",
   "name": "python",
   "nbconvert_exporter": "python",
   "pygments_lexer": "ipython3",
   "version": "3.12.4"
  }
 },
 "nbformat": 4,
 "nbformat_minor": 2
}
