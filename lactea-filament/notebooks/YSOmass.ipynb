{
 "cells": [
  {
   "cell_type": "code",
   "execution_count": null,
   "metadata": {},
   "outputs": [],
   "source": []
  },
  {
   "cell_type": "markdown",
   "metadata": {},
   "source": [
    "# Code from Nazar Budaiev"
   ]
  },
  {
   "cell_type": "code",
   "execution_count": 1,
   "metadata": {},
   "outputs": [
    {
     "name": "stderr",
     "output_type": "stream",
     "text": [
      "<>:6: SyntaxWarning: invalid escape sequence '\\k'\n",
      "<>:6: SyntaxWarning: invalid escape sequence '\\k'\n",
      "/scratch/local/55363331/ipykernel_737297/1697317454.py:6: SyntaxWarning: invalid escape sequence '\\k'\n",
      "  \"\"\"\n"
     ]
    }
   ],
   "source": [
    "import astropy.units as u\n",
    "import astropy.constants as c\n",
    "def get_mass(flux, freq):\n",
    "    return (flux * d**2 *(c.c**2)/ (2*kappa(freq)*freq**2*c.k_B*T)).to(u.Msun)\n",
    "def kappa(nu, nu0=271.1*u.GHz, kappa0=0.0114*u.cm**2*u.g**-1, beta=1.75):\n",
    "    \"\"\"\n",
    "    Compute the opacity $\\kappa$ given a reference frequency (or wavelength)\n",
    "    and a power law governing the opacity as a fuction of frequency:\n",
    "    $$ \\kappa = \\kappa_0 \\left(\\\\frac{\\\\nu}{\\\\nu_0}\\\\right)^{\\\\beta} $$\n",
    "    The default kappa=0.0114 at 271.1 GHz comes from extrapolating the\n",
    "    Ossenkopf & Henning 1994 opacities for the thin-ice-mantle, 10^6 year model\n",
    "    anchored at 1.0 mm with an assumed beta of 1.75.\n",
    "    Parameters\n",
    "    ----------\n",
    "    nu: astropy.Quantity [u.spectral() equivalent]\n",
    "        The frequency at which to evaluate kappa\n",
    "    nu0: astropy.Quantity [u.spectral() equivalent]\n",
    "        The reference frequency at which $\\kappa$ is defined\n",
    "    kappa0: astropy.Quantity [cm^2/g]\n",
    "        The dust opacity per gram of H2 along the line of sight.  Because of\n",
    "        the H2 conversion, this factor implicitly includes a dust to gas ratio\n",
    "        (usually assumed 100)\n",
    "    beta: float\n",
    "        The power-law index governing kappa as a function of nu\n",
    "    \"\"\"\n",
    "    return (kappa0*(nu.to(u.GHz,u.spectral())/nu0.to(u.GHz,u.spectral()))**(beta)).to(u.cm**2/u.g)\n",
    "\n"
   ]
  },
  {
   "cell_type": "code",
   "execution_count": 2,
   "metadata": {},
   "outputs": [
    {
     "data": {
      "text/latex": [
       "$9.197128 \\; \\mathrm{M_{\\odot}}$"
      ],
      "text/plain": [
       "<Quantity 9.19712802 solMass>"
      ]
     },
     "execution_count": 2,
     "metadata": {},
     "output_type": "execute_result"
    }
   ],
   "source": [
    "# Large Filament Core\n",
    "B3freq = 92.45* u.GHz\n",
    "kappaB3 = kappa(B3freq)\n",
    "d = 5*u.kpc\n",
    "T = 20*u.K\n",
    "get_mass(0.7*u.mJy, B3freq)"
   ]
  },
  {
   "cell_type": "code",
   "execution_count": 3,
   "metadata": {},
   "outputs": [
    {
     "data": {
      "text/latex": [
       "$5.2555017 \\; \\mathrm{M_{\\odot}}$"
      ],
      "text/plain": [
       "<Quantity 5.25550173 solMass>"
      ]
     },
     "execution_count": 3,
     "metadata": {},
     "output_type": "execute_result"
    }
   ],
   "source": [
    "# Small Filament Core\n",
    "B3freq = 92.45* u.GHz\n",
    "kappaB3 = kappa(B3freq)\n",
    "d = 5*u.kpc\n",
    "T = 20*u.K\n",
    "get_mass(0.4*u.mJy, B3freq)"
   ]
  },
  {
   "cell_type": "code",
   "execution_count": 4,
   "metadata": {},
   "outputs": [
    {
     "data": {
      "text/latex": [
       "$14.135197 \\; \\mathrm{M_{\\odot}}$"
      ],
      "text/plain": [
       "<Quantity 14.13519745 solMass>"
      ]
     },
     "execution_count": 4,
     "metadata": {},
     "output_type": "execute_result"
    }
   ],
   "source": [
    "# Smudge\n",
    "B3freq = 92.45* u.GHz\n",
    "kappaB3 = kappa(B3freq)\n",
    "d = 8.2*u.kpc\n",
    "T = 20*u.K\n",
    "get_mass(0.4*u.mJy, B3freq)"
   ]
  },
  {
   "cell_type": "code",
   "execution_count": 5,
   "metadata": {},
   "outputs": [
    {
     "data": {
      "text/latex": [
       "$35.337994 \\; \\mathrm{M_{\\odot}}$"
      ],
      "text/plain": [
       "<Quantity 35.33799362 solMass>"
      ]
     },
     "execution_count": 5,
     "metadata": {},
     "output_type": "execute_result"
    }
   ],
   "source": [
    "# Cloud c2 core\n",
    "B3freq = 92.45* u.GHz\n",
    "kappaB3 = kappa(B3freq)\n",
    "d = 8.2*u.kpc\n",
    "T = 20*u.K\n",
    "get_mass(1*u.mJy, B3freq)"
   ]
  },
  {
   "cell_type": "code",
   "execution_count": null,
   "metadata": {},
   "outputs": [],
   "source": []
  }
 ],
 "metadata": {
  "kernelspec": {
   "display_name": "Python 3",
   "language": "python",
   "name": "python3"
  },
  "language_info": {
   "codemirror_mode": {
    "name": "ipython",
    "version": 3
   },
   "file_extension": ".py",
   "mimetype": "text/x-python",
   "name": "python",
   "nbconvert_exporter": "python",
   "pygments_lexer": "ipython3",
   "version": "3.12.4"
  }
 },
 "nbformat": 4,
 "nbformat_minor": 2
}
