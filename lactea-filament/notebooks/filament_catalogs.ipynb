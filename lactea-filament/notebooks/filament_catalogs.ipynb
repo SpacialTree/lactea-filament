{
 "cells": [
  {
   "cell_type": "code",
   "execution_count": 1,
   "metadata": {},
   "outputs": [],
   "source": [
    "import matplotlib.pyplot as plt\n",
    "import numpy as np\n",
    "from astropy.table import Table\n",
    "from astropy.io import fits\n",
    "from astropy import units as u\n",
    "from astropy.coordinates import SkyCoord\n",
    "import pandas as pd\n",
    "from astropy.visualization import simple_norm\n",
    "from astropy.wcs import WCS\n",
    "from dust_extinction.averages import CT06_MWGC, RL85_MWGC, RRP89_MWGC, F11_MWGC, I05_MWAvg, CT06_MWLoc, G21_MWAvg\n",
    "import regions\n",
    "from regions import Regions\n",
    "from astropy.nddata import Cutout2D\n",
    "from astropy.table import Table, Column, MaskedColumn\n",
    "from astropy import table\n"
   ]
  },
  {
   "cell_type": "code",
   "execution_count": 2,
   "metadata": {},
   "outputs": [
    {
     "name": "stdout",
     "output_type": "stream",
     "text": [
      "/blue/adamginsburg/savannahgramze/cloudc/lactea-filament/lactea-filament\n"
     ]
    }
   ],
   "source": [
    "cd .."
   ]
  },
  {
   "cell_type": "code",
   "execution_count": 3,
   "metadata": {},
   "outputs": [],
   "source": [
    "import catalog_query as cq\n",
    "from jwst_plots import make_cat_use, JWSTCatalog\n",
    "from decaps_plots import DecapsCatalog, make_decaps_use\n",
    "import cutout_manager as cm"
   ]
  },
  {
   "cell_type": "code",
   "execution_count": 4,
   "metadata": {},
   "outputs": [
    {
     "name": "stdout",
     "output_type": "stream",
     "text": [
      "/blue/adamginsburg/savannahgramze/cloudc/lactea-filament/lactea-filament/notebooks\n"
     ]
    }
   ],
   "source": [
    "cd notebooks/"
   ]
  },
  {
   "cell_type": "code",
   "execution_count": 5,
   "metadata": {},
   "outputs": [],
   "source": [
    "basepath = '/orange/adamginsburg/jwst/cloudc/'"
   ]
  },
  {
   "cell_type": "markdown",
   "metadata": {},
   "source": [
    "# Open Catalogs\n",
    "\n",
    "### Gaia Catalog"
   ]
  },
  {
   "cell_type": "code",
   "execution_count": 6,
   "metadata": {},
   "outputs": [
    {
     "name": "stderr",
     "output_type": "stream",
     "text": [
      "WARNING: UnitsWarning: 'log(cm.s**-2)' did not parse as fits unit: 'log' is not a recognized function If this is meant to be a custom unit, define it with 'u.def_unit'. To have it recognized inside a file reader or other code, enable it with 'u.add_enabled_units'. For details, see https://docs.astropy.org/en/latest/units/combining_and_defining.html [astropy.units.core]\n"
     ]
    }
   ],
   "source": [
    "gaia = Table.read('/orange/adamginsburg/jwst/cloudc/catalogs/gaia_cloudc_fov.fits')\n",
    "gaia['skycoord'] = SkyCoord(gaia['RA_ICRS'], gaia['DE_ICRS'])"
   ]
  },
  {
   "cell_type": "code",
   "execution_count": 7,
   "metadata": {},
   "outputs": [
    {
     "data": {
      "text/html": [
       "<div><i>Table length=3</i>\n",
       "<table id=\"table23431407073952\" class=\"table-striped table-bordered table-condensed\">\n",
       "<thead><tr><th>RA_ICRS</th><th>DE_ICRS</th><th>Source</th><th>e_RA_ICRS</th><th>e_DE_ICRS</th><th>Plx</th><th>e_Plx</th><th>PM</th><th>pmRA</th><th>e_pmRA</th><th>pmDE</th><th>e_pmDE</th><th>RUWE</th><th>FG</th><th>e_FG</th><th>Gmag</th><th>FBP</th><th>e_FBP</th><th>BPmag</th><th>FRP</th><th>e_FRP</th><th>RPmag</th><th>BP-RP</th><th>RV</th><th>e_RV</th><th>Vbroad</th><th>GRVSmag</th><th>QSO</th><th>Gal</th><th>NSS</th><th>XPcont</th><th>XPsamp</th><th>RVS</th><th>EpochPh</th><th>EpochRV</th><th>MCMCGSP</th><th>MCMCMSC</th><th>And</th><th>Teff</th><th>logg</th><th>__Fe_H_</th><th>Dist</th><th>A0</th><th>HIP</th><th>PS1</th><th>SDSS13</th><th>SKYM2</th><th>TYC2</th><th>URAT1</th><th>AllWISE</th><th>APASS9</th><th>GSC23</th><th>RAVE5</th><th>_2MASS</th><th>RAVE6</th><th>RAJ2000</th><th>DEJ2000</th><th>skycoord</th></tr></thead>\n",
       "<thead><tr><th>deg</th><th>deg</th><th></th><th>mas</th><th>mas</th><th>mas</th><th>mas</th><th>mas / yr</th><th>mas / yr</th><th>mas / yr</th><th>mas / yr</th><th>mas / yr</th><th></th><th></th><th></th><th>mag</th><th></th><th></th><th>mag</th><th></th><th></th><th>mag</th><th>mag</th><th>km / s</th><th>km / s</th><th>km / s</th><th>mag</th><th></th><th></th><th></th><th></th><th></th><th></th><th></th><th></th><th></th><th></th><th></th><th>K</th><th>log(cm.s**-2)</th><th></th><th>pc</th><th>mag</th><th></th><th></th><th></th><th></th><th></th><th></th><th></th><th></th><th></th><th></th><th></th><th></th><th>deg</th><th>deg</th><th>deg,deg</th></tr></thead>\n",
       "<thead><tr><th>float64</th><th>float64</th><th>int64</th><th>float64</th><th>float64</th><th>float64</th><th>float32</th><th>float64</th><th>float64</th><th>float32</th><th>float64</th><th>float32</th><th>float64</th><th>float64</th><th>float32</th><th>float64</th><th>float32</th><th>float32</th><th>float64</th><th>float32</th><th>float32</th><th>float64</th><th>float64</th><th>float64</th><th>float32</th><th>float64</th><th>float64</th><th>uint8</th><th>uint8</th><th>uint8</th><th>uint8</th><th>uint8</th><th>uint8</th><th>uint8</th><th>uint8</th><th>uint8</th><th>uint8</th><th>uint8</th><th>float64</th><th>float64</th><th>float64</th><th>float64</th><th>float64</th><th>int32</th><th>int64</th><th>int64</th><th>int32</th><th>bytes12</th><th>bytes15</th><th>bytes19</th><th>int32</th><th>bytes10</th><th>bytes16</th><th>bytes17</th><th>bytes21</th><th>float64</th><th>float64</th><th>SkyCoord</th></tr></thead>\n",
       "<tr><td>266.59232196778</td><td>-28.65699254349</td><td>4057519204408840320</td><td>0.0143</td><td>0.0104</td><td>0.6996</td><td>0.0161</td><td>2.426</td><td>0.193</td><td>0.018</td><td>-2.418</td><td>0.010</td><td>0.898</td><td>270173.23367</td><td>60.95</td><td>12.108261</td><td>7.625e+04</td><td>65.32</td><td>13.132955</td><td>2.858e+05</td><td>138.9</td><td>11.107685</td><td>2.025269</td><td>--</td><td>--</td><td>--</td><td>--</td><td>0</td><td>0</td><td>0</td><td>1</td><td>1</td><td>0</td><td>0</td><td>0</td><td>0</td><td>1</td><td>0</td><td>--</td><td>--</td><td>--</td><td>--</td><td>--</td><td>--</td><td>--</td><td>--</td><td>165250898</td><td>--</td><td>--</td><td>--</td><td>27972032</td><td>S8DO000001</td><td>--</td><td>17462214-2839251</td><td>--</td><td>266.59232099061</td><td>-28.65698179710</td><td>266.59232196778,-28.65699254349</td></tr>\n",
       "<tr><td>266.59463394035</td><td>-28.65819391215</td><td>4057519208706336000</td><td>0.5268</td><td>0.4079</td><td>1.2884</td><td>0.4948</td><td>9.231</td><td>-9.228</td><td>0.682</td><td>-0.222</td><td>0.392</td><td>1.013</td><td>198.14741</td><td>0.8149</td><td>19.944897</td><td>45.79</td><td>5.753</td><td>21.186491</td><td>237.5</td><td>7.939</td><td>18.808569</td><td>2.377922</td><td>--</td><td>--</td><td>--</td><td>--</td><td>0</td><td>0</td><td>0</td><td>0</td><td>0</td><td>0</td><td>0</td><td>0</td><td>0</td><td>0</td><td>0</td><td>--</td><td>--</td><td>--</td><td>--</td><td>--</td><td>--</td><td>73612665945790484</td><td>--</td><td>--</td><td>--</td><td>--</td><td>--</td><td>--</td><td>--</td><td>--</td><td>--</td><td>--</td><td>266.59468067968</td><td>-28.65819292619</td><td>266.59463394035,-28.65819391215</td></tr>\n",
       "<tr><td>266.59214504061</td><td>-28.65796768739</td><td>4057519208711300992</td><td>0.4767</td><td>0.3276</td><td>0.9083</td><td>0.4624</td><td>7.823</td><td>4.657</td><td>0.705</td><td>-6.286</td><td>0.367</td><td>1.184</td><td>277.37931</td><td>2.851</td><td>19.579681</td><td>441.5</td><td>78.92</td><td>18.726192</td><td>1344</td><td>136.4</td><td>16.926788</td><td>1.799404</td><td>--</td><td>--</td><td>--</td><td>--</td><td>0</td><td>0</td><td>0</td><td>0</td><td>0</td><td>0</td><td>0</td><td>0</td><td>0</td><td>0</td><td>0</td><td>--</td><td>--</td><td>--</td><td>--</td><td>--</td><td>--</td><td>--</td><td>--</td><td>--</td><td>--</td><td>--</td><td>--</td><td>--</td><td>--</td><td>--</td><td>--</td><td>--</td><td>266.59212145483</td><td>-28.65793974970</td><td>266.59214504061,-28.65796768739</td></tr>\n",
       "</table></div>"
      ],
      "text/plain": [
       "<Table length=3>\n",
       "    RA_ICRS         DE_ICRS     ...             skycoord           \n",
       "      deg             deg       ...             deg,deg            \n",
       "    float64         float64     ...             SkyCoord           \n",
       "--------------- --------------- ... -------------------------------\n",
       "266.59232196778 -28.65699254349 ... 266.59232196778,-28.65699254349\n",
       "266.59463394035 -28.65819391215 ... 266.59463394035,-28.65819391215\n",
       "266.59214504061 -28.65796768739 ... 266.59214504061,-28.65796768739"
      ]
     },
     "execution_count": 7,
     "metadata": {},
     "output_type": "execute_result"
    }
   ],
   "source": [
    "gaia[:3]"
   ]
  },
  {
   "cell_type": "markdown",
   "metadata": {},
   "source": [
    "### Decaps Catalog"
   ]
  },
  {
   "cell_type": "code",
   "execution_count": 8,
   "metadata": {},
   "outputs": [],
   "source": [
    "decaps_cat = make_decaps_use()\n",
    "decaps = decaps_cat.catalog\n",
    "decaps['skycoord'] = SkyCoord(ra=decaps['ra']*u.deg, dec=decaps['dec']*u.deg)"
   ]
  },
  {
   "cell_type": "code",
   "execution_count": 9,
   "metadata": {},
   "outputs": [
    {
     "data": {
      "text/html": [
       "<div><i>Table length=3</i>\n",
       "<table id=\"table23431406884896\" class=\"table-striped table-bordered table-condensed\">\n",
       "<thead><tr><th>ra</th><th>dec</th><th>posstdev</th><th>ra_ok</th><th>dec_ok</th><th>posstdev_ok</th><th>ndet</th><th>ndet_ok</th><th>nmag</th><th>nmag_ok</th><th>mean</th><th>stdev</th><th>err</th><th>median</th><th>q25</th><th>q75</th><th>ndet_cflux</th><th>ndet_cflux_ok</th><th>nmag_cflux</th><th>nmag_cflux_ok</th><th>mean_cflux</th><th>stdev_cflux</th><th>err_cflux</th><th>median_cflux</th><th>q25_cflux</th><th>q75_cflux</th><th>maglimit</th><th>epochrange</th><th>epochrange_ok</th><th>epochmean</th><th>epochmean_ok</th><th>dnt_all</th><th>dqflags_all</th><th>fracflux_avg</th><th>rchi2_avg</th><th>qf_avg</th><th>prn_avg</th><th>prl_avg</th><th>prr_avg</th><th>pre_avg</th><th>cchi2_avg</th><th>snr_avg</th><th>dnt_any</th><th>dqflags_any</th><th>_id</th><th>obj_id</th><th>skycoord</th></tr></thead>\n",
       "<thead><tr><th></th><th></th><th></th><th></th><th></th><th></th><th></th><th></th><th></th><th></th><th></th><th></th><th></th><th></th><th></th><th></th><th></th><th></th><th></th><th></th><th></th><th></th><th></th><th></th><th></th><th></th><th></th><th></th><th></th><th></th><th></th><th></th><th></th><th></th><th></th><th></th><th></th><th></th><th></th><th></th><th></th><th></th><th></th><th></th><th></th><th></th><th>deg,deg</th></tr></thead>\n",
       "<thead><tr><th>float64</th><th>float64</th><th>float32</th><th>float64</th><th>float64</th><th>float32</th><th>int16</th><th>int16</th><th>int16[6]</th><th>int16[6]</th><th>float32[6]</th><th>float32[6]</th><th>float32[6]</th><th>float32[6]</th><th>float32[6]</th><th>float32[6]</th><th>int16</th><th>int16</th><th>int16[6]</th><th>int16[6]</th><th>float32[6]</th><th>float32[6]</th><th>float32[6]</th><th>float32[6]</th><th>float32[6]</th><th>float32[6]</th><th>float32[6]</th><th>float64</th><th>float64</th><th>float64</th><th>float64</th><th>int32[6]</th><th>int64[6]</th><th>float32[6]</th><th>float32[6]</th><th>float32[6]</th><th>float32[6]</th><th>float32[6]</th><th>float32[6]</th><th>float32[6]</th><th>float32[6]</th><th>float32[6]</th><th>int32[6]</th><th>int64[6]</th><th>int64</th><th>int64</th><th>SkyCoord</th></tr></thead>\n",
       "<tr><td>266.2567415536595</td><td>-28.00088999267355</td><td>0.09644666</td><td>266.2567415536595</td><td>-28.00088999267355</td><td>0.09644666</td><td>13</td><td>13</td><td>0 .. 6</td><td>0 .. 6</td><td>0.0 .. 7.745599e-09</td><td>0.0 .. 7.103565e-10</td><td>0.0 .. 2.915216e-10</td><td>0.0 .. 7.937175e-09</td><td>0.0 .. 7.470702e-09</td><td>0.0 .. 8.207482e-09</td><td>13</td><td>13</td><td>0 .. 6</td><td>0 .. 6</td><td>0.0 .. 7.721063e-09</td><td>0.0 .. 6.764225e-10</td><td>0.0 .. 3.8397127e-10</td><td>0.0 .. 7.899806e-09</td><td>0.0 .. 7.4203994e-09</td><td>0.0 .. 8.253182e-09</td><td>0.0 .. 21.365091</td><td>722.8257134000014</td><td>722.8257134000014</td><td>58007.49174939846</td><td>58007.49174939846</td><td>0 .. 0</td><td>0 .. 0</td><td>0.0 .. 0.73797244</td><td>0.0 .. 0.99717367</td><td>0.0 .. 1.0</td><td>0.0 .. 0.0072425976</td><td>0.0 .. 0.15577787</td><td>0.0 .. 0.81948566</td><td>0.0 .. 0.017493742</td><td>0.0 .. 642.2981</td><td>0.0 .. 11.832285</td><td>0 .. 0</td><td>0 .. 0</td><td>4900760819563323363</td><td>5098919203116720807</td><td>266.2567415536595,-28.00088999267355</td></tr>\n",
       "<tr><td>265.83302520143997</td><td>-28.117372138274987</td><td>0.10661936</td><td>265.83302520143997</td><td>-28.117372138274987</td><td>0.10661936</td><td>4</td><td>4</td><td>0 .. 1</td><td>0 .. 1</td><td>0.0 .. 4.5506e-09</td><td>0.0 .. 0.0</td><td>0.0 .. 5.9362093e-10</td><td>0.0 .. 4.5506e-09</td><td>0.0 .. 4.5506e-09</td><td>0.0 .. 4.5506e-09</td><td>4</td><td>4</td><td>0 .. 1</td><td>0 .. 1</td><td>0.0 .. 4.149399e-09</td><td>0.0 .. 0.0</td><td>0.0 .. 9.466654e-10</td><td>0.0 .. 4.149399e-09</td><td>0.0 .. 4.149399e-09</td><td>0.0 .. 4.149399e-09</td><td>0.0 .. 21.321514</td><td>7.946313680004096</td><td>7.946313680004096</td><td>57866.3707875</td><td>57866.3707875</td><td>0 .. 0</td><td>0 .. 0</td><td>0.0 .. 0.2327578</td><td>0.0 .. 0.9794993</td><td>0.0 .. 1.0</td><td>0.0 .. 1.42468e-07</td><td>0.0 .. 5.393787e-05</td><td>0.0 .. 0.9999417</td><td>0.0 .. 4.212124e-06</td><td>0.0 .. 306.5295</td><td>0.0 .. 7.685012</td><td>0 .. 0</td><td>0 .. 0</td><td>4900760819554427803</td><td>5062907998342584909</td><td>265.83302520143997,-28.117372138274987</td></tr>\n",
       "<tr><td>265.83339203653765</td><td>-28.210620476794347</td><td>0.26000202</td><td>265.83339203653765</td><td>-28.210620476794347</td><td>0.26000202</td><td>8</td><td>8</td><td>0 .. 6</td><td>0 .. 6</td><td>0.0 .. 9.415713e-09</td><td>0.0 .. 3.4364176e-09</td><td>0.0 .. 3.088686e-10</td><td>0.0 .. 9.191808e-09</td><td>0.0 .. 7.0025616e-09</td><td>0.0 .. 1.3008107e-08</td><td>8</td><td>8</td><td>0 .. 6</td><td>0 .. 6</td><td>0.0 .. 7.2793895e-09</td><td>0.0 .. 2.4252607e-09</td><td>0.0 .. 4.371212e-10</td><td>0.0 .. 7.600535e-09</td><td>0.0 .. 5.475495e-09</td><td>0.0 .. 9.61777e-09</td><td>0.0 .. 21.252556</td><td>469.5820205800046</td><td>469.5820205800046</td><td>58042.22434520375</td><td>58042.22434520375</td><td>0 .. 3</td><td>0 .. 0</td><td>0.0 .. 0.2962493</td><td>0.0 .. 2.1593347</td><td>0.0 .. 1.0000001</td><td>0.0 .. 3.6349946e-05</td><td>0.0 .. 0.0021282826</td><td>0.0 .. 0.99700207</td><td>0.0 .. 0.00083336624</td><td>0.0 .. 405.53812</td><td>0.0 .. 13.035642</td><td>0 .. 3</td><td>0 .. 0</td><td>4900760819554427802</td><td>5062907998342584907</td><td>265.83339203653765,-28.210620476794347</td></tr>\n",
       "</table></div>"
      ],
      "text/plain": [
       "<Table length=3>\n",
       "        ra         ...                skycoord               \n",
       "                   ...                deg,deg                \n",
       "     float64       ...                SkyCoord               \n",
       "------------------ ... --------------------------------------\n",
       " 266.2567415536595 ...   266.2567415536595,-28.00088999267355\n",
       "265.83302520143997 ... 265.83302520143997,-28.117372138274987\n",
       "265.83339203653765 ... 265.83339203653765,-28.210620476794347"
      ]
     },
     "execution_count": 9,
     "metadata": {},
     "output_type": "execute_result"
    }
   ],
   "source": [
    "decaps[:3]"
   ]
  },
  {
   "cell_type": "markdown",
   "metadata": {},
   "source": [
    "### VVV Catalog"
   ]
  },
  {
   "cell_type": "code",
   "execution_count": 10,
   "metadata": {},
   "outputs": [],
   "source": [
    "vvv = Table.read('/orange/adamginsburg/jwst/cloudc/catalogs/jw02221-o002_t001_nircam_clear-f405n-merged_vvvcat.fits')\n",
    "vvv['skycoord'] = SkyCoord(vvv['RAJ2000'], vvv['DEJ2000'], frame='icrs')"
   ]
  },
  {
   "cell_type": "code",
   "execution_count": 11,
   "metadata": {},
   "outputs": [
    {
     "data": {
      "text/html": [
       "<div><i>Table length=3</i>\n",
       "<table id=\"table23431407221504\" class=\"table-striped table-bordered table-condensed\">\n",
       "<thead><tr><th>RAJ2000</th><th>DEJ2000</th><th>iauname</th><th>mClass</th><th>Zmag3</th><th>e_Zmag3</th><th>Zperrbits</th><th>Ymag3</th><th>e_Ymag3</th><th>Yperrbits</th><th>Jmag3</th><th>e_Jmag3</th><th>Jperrbits</th><th>Hmag3</th><th>e_Hmag3</th><th>Hperrbits</th><th>Ksmag3</th><th>e_Ksmag3</th><th>Ksperrbits</th><th>RA</th><th>DEC</th><th>skycoord</th></tr></thead>\n",
       "<thead><tr><th>deg</th><th>deg</th><th></th><th></th><th>mag</th><th>mag</th><th></th><th>mag</th><th>mag</th><th></th><th>mag</th><th>mag</th><th></th><th>mag</th><th>mag</th><th></th><th>mag</th><th>mag</th><th></th><th>deg</th><th>deg</th><th>deg,deg</th></tr></thead>\n",
       "<thead><tr><th>float64</th><th>float64</th><th>bytes24</th><th>int16</th><th>float32</th><th>float64</th><th>int32</th><th>float64</th><th>float64</th><th>int32</th><th>float64</th><th>float64</th><th>int32</th><th>float64</th><th>float64</th><th>int32</th><th>float64</th><th>float64</th><th>int32</th><th>float64</th><th>float64</th><th>SkyCoord</th></tr></thead>\n",
       "<tr><td>266.581129</td><td>-28.666482</td><td>VVV J174619.47-283959.33</td><td>-1</td><td>19.834</td><td>0.213</td><td>0</td><td>18.378</td><td>0.095</td><td>0</td><td>16.819</td><td>0.044</td><td>0</td><td>--</td><td>--</td><td>0</td><td>--</td><td>--</td><td>0</td><td>266.581129</td><td>-28.666482</td><td>266.581129,-28.666482</td></tr>\n",
       "<tr><td>266.594517</td><td>-28.666434</td><td>VVV J174622.68-283959.16</td><td>-1</td><td>19.698</td><td>0.186</td><td>0</td><td>17.913</td><td>0.063</td><td>0</td><td>16.101</td><td>0.023</td><td>0</td><td>14.765</td><td>0.028</td><td>16</td><td>13.780</td><td>0.032</td><td>16</td><td>266.594517</td><td>-28.666434</td><td>266.594517,-28.666434</td></tr>\n",
       "<tr><td>266.604305</td><td>-28.663877</td><td>VVV J174625.03-283949.95</td><td>1</td><td>19.802</td><td>0.203</td><td>0</td><td>19.139</td><td>0.195</td><td>0</td><td>18.163</td><td>0.148</td><td>0</td><td>--</td><td>--</td><td>0</td><td>--</td><td>--</td><td>0</td><td>266.604305</td><td>-28.663877</td><td>266.604305,-28.663877</td></tr>\n",
       "</table></div>"
      ],
      "text/plain": [
       "<Table length=3>\n",
       " RAJ2000    DEJ2000   ...    DEC            skycoord      \n",
       "   deg        deg     ...    deg            deg,deg       \n",
       " float64    float64   ...  float64          SkyCoord      \n",
       "---------- ---------- ... ---------- ---------------------\n",
       "266.581129 -28.666482 ... -28.666482 266.581129,-28.666482\n",
       "266.594517 -28.666434 ... -28.666434 266.594517,-28.666434\n",
       "266.604305 -28.663877 ... -28.663877 266.604305,-28.663877"
      ]
     },
     "execution_count": 11,
     "metadata": {},
     "output_type": "execute_result"
    }
   ],
   "source": [
    "vvv[:3]"
   ]
  },
  {
   "cell_type": "markdown",
   "metadata": {},
   "source": [
    "### JWST"
   ]
  },
  {
   "cell_type": "code",
   "execution_count": 12,
   "metadata": {},
   "outputs": [],
   "source": [
    "#cat_use = make_cat_use()"
   ]
  },
  {
   "cell_type": "code",
   "execution_count": 13,
   "metadata": {},
   "outputs": [],
   "source": [
    "#cat_use.catalog[:3]"
   ]
  },
  {
   "cell_type": "markdown",
   "metadata": {},
   "source": [
    "# Merge Catalogs"
   ]
  },
  {
   "cell_type": "code",
   "execution_count": 14,
   "metadata": {},
   "outputs": [],
   "source": [
    "def match_crds(basecrds, tb, tb_name):\n",
    "    max_offset = 0.1*u.arcsec\n",
    "    crds = tb['skycoord']\n",
    "\n",
    "    matches, sep, _ = crds.match_to_catalog_sky(basecrds, nthneighbor=1)\n",
    "    reverse_matches, reverse_sep, _ = basecrds.match_to_catalog_sky(crds, nthneighbor=1)\n",
    "    mutual_matches = (reverse_matches[matches] == np.arange(len(matches)))\n",
    "\n",
    "    newcrds = crds[(sep > max_offset) | (~mutual_matches)]\n",
    "    basecrds = SkyCoord([basecrds, newcrds])\n",
    "    return basecrds"
   ]
  },
  {
   "cell_type": "code",
   "execution_count": 15,
   "metadata": {},
   "outputs": [],
   "source": [
    "tbls = [gaia, decaps, vvv]\n",
    "tbl_names = ['gaia', 'decaps', 'vvv']\n",
    "\n",
    "ref_filter = 'gaia'\n",
    "basecrds = gaia['skycoord']\n",
    "\n",
    "max_offset = 0.1*u.arcsec\n",
    "\n",
    "for i, tbl in enumerate(tbls):\n",
    "    if tbl_names[i] == ref_filter:\n",
    "        continue\n",
    "    basecrds = match_crds(basecrds, tbl, tbl_names[i])"
   ]
  },
  {
   "cell_type": "code",
   "execution_count": 16,
   "metadata": {},
   "outputs": [
    {
     "name": "stderr",
     "output_type": "stream",
     "text": [
      "WARNING: MergeConflictWarning: Cannot merge meta key 'ID' types <class 'str'> and <class 'str'>, choosing ID='II_348_vvv2' [astropy.utils.metadata.merge]\n",
      "WARNING: MergeConflictWarning: Cannot merge meta key 'NAME' types <class 'str'> and <class 'str'>, choosing NAME='II/348/vvv2' [astropy.utils.metadata.merge]\n",
      "WARNING: MergeConflictWarning: Cannot merge meta key 'description' types <class 'str'> and <class 'str'>, choosing description='VVV catalog DR2 (2015-08-19)' [astropy.utils.metadata.merge]\n"
     ]
    }
   ],
   "source": [
    "# Build the basetable\n",
    "basetable = Table()\n",
    "basetable['skycoord_ref'] = basecrds\n",
    "\n",
    "for tbl, tbl_name in zip(tbls, tbl_names):\n",
    "    wl = tbl_name\n",
    "\n",
    "    crds = tbl['skycoord']\n",
    "    matches, sep, _ = basecrds.match_to_catalog_sky(crds, nthneighbor=1)\n",
    "    reverse_matches, reverse_sep, _ = crds.match_to_catalog_sky(basecrds, nthneighbor=1)\n",
    "    mutual_matches = (reverse_matches[matches] == np.arange(len(matches)))\n",
    "\n",
    "    basetable.add_column(name=f\"sep_{wl}\", col=sep)\n",
    "    basetable.add_column(name=f'id_{wl}', col=matches)\n",
    "    matchtb = tbl[matches]\n",
    "    badsep = sep > max_offset\n",
    "\n",
    "    for cn in matchtb.colnames:\n",
    "        if isinstance(matchtb[cn], SkyCoord):\n",
    "            matchtb.rename_column(cn, f\"{cn}_{wl}\")\n",
    "            matchtb[f'mask_{wl}'] = badsep\n",
    "        else:\n",
    "            matchtb[f'{cn}_{wl}'] = MaskedColumn(data=matchtb[cn], name=f'{cn}_{wl}')\n",
    "            matchtb[f'{cn}_{wl}'].mask[badsep] = True\n",
    "            # mask non-mutual matches\n",
    "            matchtb[f'{cn}_{wl}'].mask[~mutual_matches] = True\n",
    "            matchtb.remove_column(cn)\n",
    "    basetable = table.hstack([basetable, matchtb], join_type='exact')\n",
    "\n"
   ]
  },
  {
   "cell_type": "code",
   "execution_count": null,
   "metadata": {},
   "outputs": [],
   "source": [
    "basetable.write('/orange/adamginsburg/jwst/cloudc/catalogs/matched_gaia_decaps_vvv.fits', overwrite=True)"
   ]
  },
  {
   "cell_type": "code",
   "execution_count": null,
   "metadata": {},
   "outputs": [
    {
     "ename": "",
     "evalue": "",
     "output_type": "error",
     "traceback": [
      "\u001b[1;31mThe Kernel crashed while executing code in the current cell or a previous cell. \n",
      "\u001b[1;31mPlease review the code in the cell(s) to identify a possible cause of the failure. \n",
      "\u001b[1;31mClick <a href='https://aka.ms/vscodeJupyterKernelCrash'>here</a> for more info. \n",
      "\u001b[1;31mView Jupyter <a href='command:jupyter.viewOutput'>log</a> for further details."
     ]
    }
   ],
   "source": [
    "#crds = cat_use.catalog['skycoord_ref']\n",
    "#matches, sep, _ = basecrds.match_to_catalog_sky(crds, nthneighbor=1)\n",
    "#reverse_matches, reverse_sep, _ = crds.match_to_catalog_sky(basecrds, nthneighbor=1)\n",
    "#mutual_matches = (reverse_matches[matches] == np.arange(len(matches)))\n",
    "#\n",
    "#matchtb = cat_use.catalog[matches]\n",
    "#\n",
    "#basetable = table.hstack([basetable, matchtb], join_type='exact')"
   ]
  },
  {
   "cell_type": "code",
   "execution_count": null,
   "metadata": {},
   "outputs": [],
   "source": []
  }
 ],
 "metadata": {
  "kernelspec": {
   "display_name": "py312",
   "language": "python",
   "name": "py312"
  },
  "language_info": {
   "codemirror_mode": {
    "name": "ipython",
    "version": 3
   },
   "file_extension": ".py",
   "mimetype": "text/x-python",
   "name": "python",
   "nbconvert_exporter": "python",
   "pygments_lexer": "ipython3",
   "version": "3.12.4"
  }
 },
 "nbformat": 4,
 "nbformat_minor": 2
}
